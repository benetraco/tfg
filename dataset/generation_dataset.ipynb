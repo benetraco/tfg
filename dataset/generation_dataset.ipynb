{
 "cells": [
  {
   "cell_type": "code",
   "execution_count": 1,
   "metadata": {},
   "outputs": [],
   "source": [
    "from build_dataset import MRILesionDatasetBuilder, LatentImageProcessor"
   ]
  },
  {
   "cell_type": "markdown",
   "metadata": {},
   "source": [
    "# Build the dataset for the brain generation model\n",
    "- Inpaint lesions with simple method in the slices with lesions\n",
    "- Include SHIFTS and WMH2017 datasets"
   ]
  },
  {
   "cell_type": "markdown",
   "metadata": {},
   "source": [
    "### VH"
   ]
  },
  {
   "cell_type": "code",
   "execution_count": 2,
   "metadata": {},
   "outputs": [
    {
     "name": "stdout",
     "output_type": "stream",
     "text": [
      "Total empty masks skipped: 0\n",
      "In the preprocessed folder: Total examples: 741, train examples: 507 (68.42%), test examples: 234 (31.58%)\n",
      "In the hole dataset: Total examples: 741, train examples: 507 (68.42%), test examples: 234 (31.58%)\n"
     ]
    }
   ],
   "source": [
    "data_folder=\"/home/benet/data\"\n",
    "input_folder=\"VH\"\n",
    "output_folder=\"VH-SHIFTS-WMH2017_split\"\n",
    "folders=[\"train\", \"test\"]\n",
    "flair_image=\"flair.nii.gz\"\n",
    "mask_image=\"lesionMask.nii.gz\"\n",
    "slices_per_example=13\n",
    "slices_step=1\n",
    "start_slice=85\n",
    "train_split=0.7\n",
    "seed = 17844\n",
    "skip_empty_masks=False\n",
    "fill_lesion=False\n",
    "\n",
    "dataset_builder = MRILesionDatasetBuilder(data_folder, input_folder, output_folder, folders, flair_image, mask_image, slices_per_example, slices_step, start_slice, train_split, seed, skip_empty_masks, fill_lesion)\n",
    "dataset_builder.build_dataset()\n",
    "\n",
    "\n",
    "# output_folder=\"lesion2D_VH\"\n",
    "# fill_lesion=False\n",
    "# dataset_builder = MRILesionDatasetBuilder(data_folder, input_folder, output_folder, folders, flair_image, mask_image, slices_per_example, slices_step, start_slice, train_split, seed, skip_empty_masks, fill_lesion)\n",
    "# dataset_builder.build_dataset()\n",
    "\n",
    "# output_folder=\"lesion2D_VH_split\"\n",
    "# fill_lesion=False\n",
    "# train_split=0.7\n",
    "# dataset_builder = MRILesionDatasetBuilder(data_folder, input_folder, output_folder, folders, flair_image, mask_image, slices_per_example, slices_step, start_slice, train_split, seed, skip_empty_masks, fill_lesion)\n",
    "# dataset_builder.build_dataset()"
   ]
  },
  {
   "cell_type": "markdown",
   "metadata": {},
   "source": [
    "### SHIFTS"
   ]
  },
  {
   "cell_type": "code",
   "execution_count": 3,
   "metadata": {},
   "outputs": [
    {
     "name": "stdout",
     "output_type": "stream",
     "text": [
      "Total empty masks skipped: 0\n",
      "In the preprocessed folder: Total examples: 1274, train examples: 871 (68.37%), test examples: 403 (31.63%)\n",
      "In the hole dataset: Total examples: 2015, train examples: 1378 (68.39%), test examples: 637 (31.61%)\n"
     ]
    }
   ],
   "source": [
    "data_folder=\"/home/benet/data\"\n",
    "input_folder=\"SHIFTS_preprocessedMNI\" ###\n",
    "output_folder=\"VH-SHIFTS-WMH2017_split\"\n",
    "folders=[\"dev_in\", \"dev_out\", \"eval_in\", \"train\"] ###\n",
    "flair_image=\"flair.nii.gz\"\n",
    "mask_image=\"lesionMask.nii.gz\"\n",
    "slices_per_example=13\n",
    "slices_step=1\n",
    "start_slice=85\n",
    "train_split=0.7\n",
    "seed = 17844\n",
    "skip_empty_masks=False\n",
    "fill_lesion=False\n",
    "\n",
    "dataset_builder = MRILesionDatasetBuilder(data_folder, input_folder, output_folder, folders, flair_image, mask_image, slices_per_example, slices_step, start_slice, train_split, seed, skip_empty_masks, fill_lesion)\n",
    "dataset_builder.build_dataset()\n",
    "\n",
    "\n",
    "# output_folder=\"lesion2D_SHIFTS\"\n",
    "# fill_lesion=False\n",
    "# dataset_builder = MRILesionDatasetBuilder(data_folder, input_folder, output_folder, folders, flair_image, mask_image, slices_per_example, slices_step, start_slice, train_split, seed, skip_empty_masks, fill_lesion)\n",
    "# dataset_builder.build_dataset()"
   ]
  },
  {
   "cell_type": "markdown",
   "metadata": {},
   "source": [
    "### WMH2017"
   ]
  },
  {
   "cell_type": "code",
   "execution_count": 4,
   "metadata": {},
   "outputs": [
    {
     "name": "stdout",
     "output_type": "stream",
     "text": [
      "Total empty masks skipped: 0\n",
      "In the preprocessed folder: Total examples: 780, train examples: 546 (70.00%), test examples: 234 (30.00%)\n",
      "In the hole dataset: Total examples: 2795, train examples: 1924 (68.84%), test examples: 871 (31.16%)\n"
     ]
    }
   ],
   "source": [
    "data_folder=\"/home/benet/data\"\n",
    "input_folder=\"WMH2017_preprocessedMNI\" ###\n",
    "output_folder=\"VH-SHIFTS-WMH2017_split\"\n",
    "folders=None ###\n",
    "flair_image=\"flair.nii.gz\"\n",
    "mask_image=\"lesionMask.nii.gz\"\n",
    "slices_per_example=13\n",
    "slices_step=1\n",
    "start_slice=85\n",
    "train_split=0.7\n",
    "seed = 17844\n",
    "skip_empty_masks=False\n",
    "fill_lesion=False\n",
    "\n",
    "dataset_builder = MRILesionDatasetBuilder(data_folder, input_folder, output_folder, folders, flair_image, mask_image, slices_per_example, slices_step, start_slice, train_split, seed, skip_empty_masks, fill_lesion)\n",
    "dataset_builder.build_dataset()\n",
    "\n",
    "\n",
    "# output_folder=\"lesion2D_WMH2017\"\n",
    "# fill_lesion=False\n",
    "# dataset_builder = MRILesionDatasetBuilder(data_folder, input_folder, output_folder, folders, flair_image, mask_image, slices_per_example, slices_step, start_slice, train_split, seed, skip_empty_masks, fill_lesion)\n",
    "# dataset_builder.build_dataset()"
   ]
  },
  {
   "cell_type": "markdown",
   "metadata": {},
   "source": [
    "### LATENTS"
   ]
  },
  {
   "cell_type": "code",
   "execution_count": 5,
   "metadata": {},
   "outputs": [
    {
     "name": "stdout",
     "output_type": "stream",
     "text": [
      "/home/benet/tfg\n",
      "Device: cuda\n",
      "Found 1924 images in the dataset folder\n",
      "7696 latent images saved in /home/benet/data/VH-SHIFTS-WMH2017_split/train/latent\n",
      "Device: cuda\n",
      "Found 871 images in the dataset folder\n",
      "3484 latent images saved in /home/benet/data/VH-SHIFTS-WMH2017_split/test/latent\n"
     ]
    }
   ],
   "source": [
    "from pathlib import Path\n",
    "import os\n",
    "repo_path= Path.cwd().resolve()\n",
    "while '.gitignore' not in os.listdir(repo_path): # while not in the root of the repo\n",
    "    repo_path = repo_path.parent #go up one level\n",
    "    print(repo_path)\n",
    "resolution = 256\n",
    "\n",
    "# output_dir = \"/home/benet/data/lesion2D_VH_split/train/latent\"\n",
    "# input_dir = \"/home/benet/data/lesion2D_VH_split/train/flair\"\n",
    "output_dir = \"/home/benet/data/VH-SHIFTS-WMH2017_split/train/latent\"\n",
    "input_dir = \"/home/benet/data/VH-SHIFTS-WMH2017_split/train/flair\"\n",
    "\n",
    "processor_train = LatentImageProcessor(repo_path, output_dir=output_dir, scale=True, \n",
    "                                 resolution=resolution, finetuned_vae=False, input_dir=input_dir)\n",
    "processor_train.process_images()\n",
    "\n",
    "\n",
    "# output_dir = \"/home/benet/data/lesion2D_VH_split/test/latent\"\n",
    "# input_dir = \"/home/benet/data/lesion2D_VH_split/test/flair\"\n",
    "output_dir = \"/home/benet/data/VH-SHIFTS-WMH2017_split/test/latent\"\n",
    "input_dir = \"/home/benet/data/VH-SHIFTS-WMH2017_split/test/flair\"\n",
    "processor_test = LatentImageProcessor(repo_path, output_dir=output_dir, scale=True,\n",
    "                                    resolution=resolution, finetuned_vae=False, input_dir=input_dir)\n",
    "processor_test.process_images()"
   ]
  }
 ],
 "metadata": {
  "kernelspec": {
   "display_name": "benetvicorob",
   "language": "python",
   "name": "python3"
  },
  "language_info": {
   "codemirror_mode": {
    "name": "ipython",
    "version": 3
   },
   "file_extension": ".py",
   "mimetype": "text/x-python",
   "name": "python",
   "nbconvert_exporter": "python",
   "pygments_lexer": "ipython3",
   "version": "3.12.9"
  }
 },
 "nbformat": 4,
 "nbformat_minor": 2
}
