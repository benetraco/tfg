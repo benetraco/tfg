{
 "cells": [
  {
   "cell_type": "code",
   "execution_count": 1,
   "metadata": {},
   "outputs": [
    {
     "name": "stderr",
     "output_type": "stream",
     "text": [
      "2025-05-23 14:44:07.753891: I tensorflow/core/util/port.cc:153] oneDNN custom operations are on. You may see slightly different numerical results due to floating-point round-off errors from different computation orders. To turn them off, set the environment variable `TF_ENABLE_ONEDNN_OPTS=0`.\n",
      "2025-05-23 14:44:07.776224: E external/local_xla/xla/stream_executor/cuda/cuda_fft.cc:467] Unable to register cuFFT factory: Attempting to register factory for plugin cuFFT when one has already been registered\n",
      "WARNING: All log messages before absl::InitializeLog() is called are written to STDERR\n",
      "E0000 00:00:1748004247.804233 3465216 cuda_dnn.cc:8579] Unable to register cuDNN factory: Attempting to register factory for plugin cuDNN when one has already been registered\n",
      "E0000 00:00:1748004247.812583 3465216 cuda_blas.cc:1407] Unable to register cuBLAS factory: Attempting to register factory for plugin cuBLAS when one has already been registered\n",
      "W0000 00:00:1748004247.833309 3465216 computation_placer.cc:177] computation placer already registered. Please check linkage and avoid linking the same target more than once.\n",
      "W0000 00:00:1748004247.833338 3465216 computation_placer.cc:177] computation placer already registered. Please check linkage and avoid linking the same target more than once.\n",
      "W0000 00:00:1748004247.833340 3465216 computation_placer.cc:177] computation placer already registered. Please check linkage and avoid linking the same target more than once.\n",
      "W0000 00:00:1748004247.833342 3465216 computation_placer.cc:177] computation placer already registered. Please check linkage and avoid linking the same target more than once.\n",
      "2025-05-23 14:44:07.839816: I tensorflow/core/platform/cpu_feature_guard.cc:210] This TensorFlow binary is optimized to use available CPU instructions in performance-critical operations.\n",
      "To enable the following instructions: AVX2 AVX512F AVX512_VNNI FMA, in other operations, rebuild TensorFlow with the appropriate compiler flags.\n"
     ]
    }
   ],
   "source": [
    "from build_dataset import MRILesionDatasetBuilder, LatentImageProcessor, MRIBiomarkemDatasetBuilder"
   ]
  },
  {
   "cell_type": "markdown",
   "metadata": {},
   "source": [
    "# Build the dataset for the brain generation model\n",
    "- Inpaint lesions with simple method in the slices with lesions\n",
    "- Include SHIFTS and WMH2017 datasets"
   ]
  },
  {
   "cell_type": "markdown",
   "metadata": {},
   "source": [
    "### VH"
   ]
  },
  {
   "cell_type": "code",
   "execution_count": 2,
   "metadata": {},
   "outputs": [
    {
     "name": "stdout",
     "output_type": "stream",
     "text": [
      "Total empty masks skipped: 0\n",
      "In the preprocessed folder: Total examples: 741, train examples: 507 (68.42%), test examples: 234 (31.58%)\n",
      "In the hole dataset: Total examples: 741, train examples: 507 (68.42%), test examples: 234 (31.58%)\n"
     ]
    }
   ],
   "source": [
    "data_folder=\"/home/benet/data\"\n",
    "input_folder=\"VH\"\n",
    "output_folder=\"VH-SHIFTS-WMH2017_split\"\n",
    "folders=[\"train\", \"test\"]\n",
    "flair_image=\"flair.nii.gz\"\n",
    "mask_image=\"lesionMask.nii.gz\"\n",
    "slices_per_example=13\n",
    "slices_step=1\n",
    "start_slice=85\n",
    "train_split=0.7\n",
    "seed = 17844\n",
    "skip_empty_masks=False\n",
    "fill_lesion=False\n",
    "\n",
    "dataset_builder = MRILesionDatasetBuilder(data_folder, input_folder, output_folder, folders, flair_image, mask_image, slices_per_example, slices_step, start_slice, train_split, seed, skip_empty_masks, fill_lesion)\n",
    "dataset_builder.build_dataset()\n",
    "\n",
    "\n",
    "# output_folder=\"lesion2D_VH\"\n",
    "# fill_lesion=False\n",
    "# dataset_builder = MRILesionDatasetBuilder(data_folder, input_folder, output_folder, folders, flair_image, mask_image, slices_per_example, slices_step, start_slice, train_split, seed, skip_empty_masks, fill_lesion)\n",
    "# dataset_builder.build_dataset()\n",
    "\n",
    "# output_folder=\"lesion2D_VH_split\"\n",
    "# fill_lesion=False\n",
    "# train_split=0.7\n",
    "# dataset_builder = MRILesionDatasetBuilder(data_folder, input_folder, output_folder, folders, flair_image, mask_image, slices_per_example, slices_step, start_slice, train_split, seed, skip_empty_masks, fill_lesion)\n",
    "# dataset_builder.build_dataset()"
   ]
  },
  {
   "cell_type": "markdown",
   "metadata": {},
   "source": [
    "### SHIFTS"
   ]
  },
  {
   "cell_type": "code",
   "execution_count": 3,
   "metadata": {},
   "outputs": [
    {
     "name": "stdout",
     "output_type": "stream",
     "text": [
      "Total empty masks skipped: 0\n",
      "In the preprocessed folder: Total examples: 1274, train examples: 871 (68.37%), test examples: 403 (31.63%)\n",
      "In the hole dataset: Total examples: 2015, train examples: 1378 (68.39%), test examples: 637 (31.61%)\n"
     ]
    }
   ],
   "source": [
    "data_folder=\"/home/benet/data\"\n",
    "input_folder=\"SHIFTS_preprocessedMNI\" ###\n",
    "output_folder=\"VH-SHIFTS-WMH2017_split\"\n",
    "folders=[\"dev_in\", \"dev_out\", \"eval_in\", \"train\"] ###\n",
    "flair_image=\"flair.nii.gz\"\n",
    "mask_image=\"lesionMask.nii.gz\"\n",
    "slices_per_example=13\n",
    "slices_step=1\n",
    "start_slice=85\n",
    "train_split=0.7\n",
    "seed = 17844\n",
    "skip_empty_masks=False\n",
    "fill_lesion=False\n",
    "\n",
    "dataset_builder = MRILesionDatasetBuilder(data_folder, input_folder, output_folder, folders, flair_image, mask_image, slices_per_example, slices_step, start_slice, train_split, seed, skip_empty_masks, fill_lesion)\n",
    "dataset_builder.build_dataset()\n",
    "\n",
    "\n",
    "# output_folder=\"lesion2D_SHIFTS\"\n",
    "# fill_lesion=False\n",
    "# dataset_builder = MRILesionDatasetBuilder(data_folder, input_folder, output_folder, folders, flair_image, mask_image, slices_per_example, slices_step, start_slice, train_split, seed, skip_empty_masks, fill_lesion)\n",
    "# dataset_builder.build_dataset()"
   ]
  },
  {
   "cell_type": "markdown",
   "metadata": {},
   "source": [
    "### WMH2017"
   ]
  },
  {
   "cell_type": "code",
   "execution_count": 4,
   "metadata": {},
   "outputs": [
    {
     "name": "stdout",
     "output_type": "stream",
     "text": [
      "Total empty masks skipped: 0\n",
      "In the preprocessed folder: Total examples: 780, train examples: 546 (70.00%), test examples: 234 (30.00%)\n",
      "In the hole dataset: Total examples: 2795, train examples: 1924 (68.84%), test examples: 871 (31.16%)\n"
     ]
    }
   ],
   "source": [
    "data_folder=\"/home/benet/data\"\n",
    "input_folder=\"WMH2017_preprocessedMNI\" ###\n",
    "output_folder=\"VH-SHIFTS-WMH2017_split\"\n",
    "folders=None ###\n",
    "flair_image=\"flair.nii.gz\"\n",
    "mask_image=\"lesionMask.nii.gz\"\n",
    "slices_per_example=13\n",
    "slices_step=1\n",
    "start_slice=85\n",
    "train_split=0.7\n",
    "seed = 17844\n",
    "skip_empty_masks=False\n",
    "fill_lesion=False\n",
    "\n",
    "dataset_builder = MRILesionDatasetBuilder(data_folder, input_folder, output_folder, folders, flair_image, mask_image, slices_per_example, slices_step, start_slice, train_split, seed, skip_empty_masks, fill_lesion)\n",
    "dataset_builder.build_dataset()\n",
    "\n",
    "\n",
    "# output_folder=\"lesion2D_WMH2017\"\n",
    "# fill_lesion=False\n",
    "# dataset_builder = MRILesionDatasetBuilder(data_folder, input_folder, output_folder, folders, flair_image, mask_image, slices_per_example, slices_step, start_slice, train_split, seed, skip_empty_masks, fill_lesion)\n",
    "# dataset_builder.build_dataset()"
   ]
  },
  {
   "cell_type": "markdown",
   "metadata": {},
   "source": [
    "### LATENTS"
   ]
  },
  {
   "cell_type": "code",
   "execution_count": 5,
   "metadata": {},
   "outputs": [
    {
     "name": "stdout",
     "output_type": "stream",
     "text": [
      "/home/benet/tfg\n",
      "Device: cuda\n",
      "Found 1924 images in the dataset folder\n",
      "7696 latent images saved in /home/benet/data/VH-SHIFTS-WMH2017_split/train/latent\n",
      "Device: cuda\n",
      "Found 871 images in the dataset folder\n",
      "3484 latent images saved in /home/benet/data/VH-SHIFTS-WMH2017_split/test/latent\n"
     ]
    }
   ],
   "source": [
    "from pathlib import Path\n",
    "import os\n",
    "repo_path= Path.cwd().resolve()\n",
    "while '.gitignore' not in os.listdir(repo_path): # while not in the root of the repo\n",
    "    repo_path = repo_path.parent #go up one level\n",
    "    print(repo_path)\n",
    "resolution = 256\n",
    "\n",
    "# output_dir = \"/home/benet/data/lesion2D_VH_split/train/latent\"\n",
    "# input_dir = \"/home/benet/data/lesion2D_VH_split/train/flair\"\n",
    "output_dir = \"/home/benet/data/VH-SHIFTS-WMH2017_split/train/latent\"\n",
    "input_dir = \"/home/benet/data/VH-SHIFTS-WMH2017_split/train/flair\"\n",
    "\n",
    "processor_train = LatentImageProcessor(repo_path, output_dir=output_dir, scale=True, \n",
    "                                 resolution=resolution, finetuned_vae=False, input_dir=input_dir)\n",
    "processor_train.process_images()\n",
    "\n",
    "\n",
    "# output_dir = \"/home/benet/data/lesion2D_VH_split/test/latent\"\n",
    "# input_dir = \"/home/benet/data/lesion2D_VH_split/test/flair\"\n",
    "output_dir = \"/home/benet/data/VH-SHIFTS-WMH2017_split/test/latent\"\n",
    "input_dir = \"/home/benet/data/VH-SHIFTS-WMH2017_split/test/flair\"\n",
    "processor_test = LatentImageProcessor(repo_path, output_dir=output_dir, scale=True,\n",
    "                                    resolution=resolution, finetuned_vae=False, input_dir=input_dir)\n",
    "processor_test.process_images()"
   ]
  },
  {
   "cell_type": "markdown",
   "metadata": {},
   "source": [
    "## For the model of scanner prompt"
   ]
  },
  {
   "cell_type": "code",
   "execution_count": 4,
   "metadata": {},
   "outputs": [
    {
     "name": "stdout",
     "output_type": "stream",
     "text": [
      "Total empty masks skipped: 0\n",
      "In the preprocessed folder: Total examples: 780, train examples: 780 (100.00%), test examples: 0 (0.00%)\n",
      "In the hole dataset: Total examples: 780, train examples: 780 (100.00%), test examples: 0 (0.00%)\n"
     ]
    }
   ],
   "source": [
    "data_folder=\"/home/benet/data\"\n",
    "input_folder=\"WMH2017_preprocessedMNI\" ###\n",
    "output_folder=\"WMH2017_split\"\n",
    "folders=None ###\n",
    "flair_image=\"flair.nii.gz\"\n",
    "mask_image=\"lesionMask.nii.gz\"\n",
    "slices_per_example=13\n",
    "slices_step=1\n",
    "start_slice=85\n",
    "train_split=1\n",
    "seed = 17844\n",
    "skip_empty_masks=False\n",
    "fill_lesion=False\n",
    "\n",
    "dataset_builder = MRILesionDatasetBuilder(data_folder, input_folder, output_folder, folders, flair_image, mask_image, slices_per_example, slices_step, start_slice, train_split, seed, skip_empty_masks, fill_lesion)\n",
    "dataset_builder.build_dataset()\n"
   ]
  },
  {
   "cell_type": "markdown",
   "metadata": {},
   "source": [
    "Manually divide into train/test.\n",
    "Test: \n",
    "- Philips: 35, 37, 39, 41, 49\n",
    "- Simens: 65, 66, 67, 68, 69\n",
    "- GE: 116, 126, 132, 137, 144"
   ]
  },
  {
   "cell_type": "markdown",
   "metadata": {},
   "source": [
    "Now the biomarkem data"
   ]
  },
  {
   "cell_type": "code",
   "execution_count": 2,
   "metadata": {},
   "outputs": [],
   "source": [
    "slice_mapping = {\n",
    "    \"01\": {\"ISI\": 24, \"TSI\": 24, \"VSI\": 27},\n",
    "    \"02\": {\"ISI\": 25, \"TSI\": 23, \"VSI\": 26},\n",
    "    \"03\": {\"ISI\": 25, \"TSI\": 24, \"VSI\": 25},\n",
    "    \"04\": {\"ISI\": 24, \"TSI\": 23, \"VSI\": 24},\n",
    "    \"05\": {\"ISI\": 25, \"TSI\": 23, \"VSI\": 26},\n",
    "    \"06\": {\"ISI\": 25, \"TSI\": 22, \"VSI\": 26},\n",
    "    \"07\": {\"ISI\": 25, \"TSI\": 23, \"VSI\": 24},\n",
    "    \"08\": {\"ISI\": 24, \"TSI\": 23, \"VSI\": 24},\n",
    "    \"09\": {\"ISI\": 26, \"TSI\": 24, \"VSI\": 26},\n",
    "    \"10\": {\"ISI\": 26, \"TSI\": 24, \"VSI\": 25},\n",
    "    \"11\": {\"ISI\": 25, \"TSI\": 22, \"VSI\": 25},\n",
    "    \"12\": {\"ISI\": 25, \"TSI\": 23, \"VSI\": 25},\n",
    "    \"13\": {\"ISI\": 25, \"TSI\": 23, \"VSI\": 24},\n",
    "    \"14\": {\"ISI\": 25, \"TSI\": 22, \"VSI\": 26},\n",
    "    \"15\": {\"ISI\": 26, \"TSI\": 24, \"VSI\": 25},\n",
    "}\n",
    "output_folder=\"/home/benet/data/WMH2017_split/biomarkem\"\n",
    "builder = MRIBiomarkemDatasetBuilder(slice_mapping=slice_mapping, output_folder=output_folder)\n",
    "builder.build_dataset()\n"
   ]
  },
  {
   "cell_type": "markdown",
   "metadata": {},
   "source": [
    "Manually divide into train/test.\n",
    "Test: 11, 12, 13, 14, 15\n",
    "\n",
    "Now, create the latents"
   ]
  },
  {
   "cell_type": "code",
   "execution_count": 3,
   "metadata": {},
   "outputs": [
    {
     "name": "stdout",
     "output_type": "stream",
     "text": [
      "/home/benet/tfg\n",
      "Device: cuda\n",
      "Found 735 images in the dataset folder\n",
      "2940 latent images saved in /home/benet/data/WMH2017_split/train/latent\n",
      "Device: cuda\n",
      "Found 270 images in the dataset folder\n",
      "1080 latent images saved in /home/benet/data/WMH2017_split/test/latent\n"
     ]
    }
   ],
   "source": [
    "from pathlib import Path\n",
    "import os\n",
    "repo_path= Path.cwd().resolve()\n",
    "while '.gitignore' not in os.listdir(repo_path): # while not in the root of the repo\n",
    "    repo_path = repo_path.parent #go up one level\n",
    "    print(repo_path)\n",
    "resolution = 256\n",
    "\n",
    "output_dir = \"/home/benet/data/WMH2017_split/train/latent\"\n",
    "input_dir = \"/home/benet/data/WMH2017_split/train/flair\"\n",
    "\n",
    "processor_train = LatentImageProcessor(repo_path, output_dir=output_dir, scale=True, \n",
    "                                 resolution=resolution, finetuned_vae=False, input_dir=input_dir)\n",
    "processor_train.process_images()\n",
    "\n",
    "output_dir = \"/home/benet/data/WMH2017_split/test/latent\"\n",
    "input_dir = \"/home/benet/data/WMH2017_split/test/flair\"\n",
    "processor_test = LatentImageProcessor(repo_path, output_dir=output_dir, scale=True,\n",
    "                                    resolution=resolution, finetuned_vae=False, input_dir=input_dir)\n",
    "processor_test.process_images()"
   ]
  }
 ],
 "metadata": {
  "kernelspec": {
   "display_name": "benetvicorob",
   "language": "python",
   "name": "python3"
  },
  "language_info": {
   "codemirror_mode": {
    "name": "ipython",
    "version": 3
   },
   "file_extension": ".py",
   "mimetype": "text/x-python",
   "name": "python",
   "nbconvert_exporter": "python",
   "pygments_lexer": "ipython3",
   "version": "3.12.9"
  }
 },
 "nbformat": 4,
 "nbformat_minor": 2
}
