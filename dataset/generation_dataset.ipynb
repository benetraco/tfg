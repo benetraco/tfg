{
 "cells": [
  {
   "cell_type": "code",
   "execution_count": 1,
   "metadata": {},
   "outputs": [],
   "source": [
    "from build_dataset import MRILesionDatasetBuilder"
   ]
  },
  {
   "cell_type": "markdown",
   "metadata": {},
   "source": [
    "# Build the dataset for the brain generation model\n",
    "- No Train / test split, all for train\n",
    "- Inpaint lesions with simple method in the slices with lesions\n",
    "- Include SHIFTS and WMH2017 datasets"
   ]
  },
  {
   "cell_type": "markdown",
   "metadata": {},
   "source": [
    "### VH"
   ]
  },
  {
   "cell_type": "code",
   "execution_count": 2,
   "metadata": {},
   "outputs": [
    {
     "name": "stdout",
     "output_type": "stream",
     "text": [
      "Total empty masks skipped: 0\n",
      "In the preprocessed folder: Total examples: 741, train examples: 741 (100.00%), test examples: 0 (0.00%)\n",
      "In the hole dataset: Total examples: 741, train examples: 741 (100.00%), test examples: 0 (0.00%)\n",
      "Total empty masks skipped: 0\n",
      "In the preprocessed folder: Total examples: 741, train examples: 741 (100.00%), test examples: 0 (0.00%)\n",
      "In the hole dataset: Total examples: 741, train examples: 741 (100.00%), test examples: 0 (0.00%)\n"
     ]
    }
   ],
   "source": [
    "data_folder=\"/home/benet/data\"\n",
    "input_folder=\"VH\"\n",
    "output_folder=\"generation2D_VH\"\n",
    "folders=[\"train\", \"test\"]\n",
    "flair_image=\"flair.nii.gz\"\n",
    "mask_image=\"lesionMask.nii.gz\"\n",
    "slices_per_example=13\n",
    "slices_step=1\n",
    "start_slice=85\n",
    "train_split=1\n",
    "seed = 17844\n",
    "skip_empty_masks=False\n",
    "fill_lesion=True\n",
    "\n",
    "dataset_builder = MRILesionDatasetBuilder(data_folder, input_folder, output_folder, folders, flair_image, mask_image, slices_per_example, slices_step, start_slice, train_split, seed, skip_empty_masks, fill_lesion)\n",
    "dataset_builder.build_dataset()\n",
    "\n",
    "\n",
    "output_folder=\"lesion2D_VH\"\n",
    "fill_lesion=False\n",
    "dataset_builder = MRILesionDatasetBuilder(data_folder, input_folder, output_folder, folders, flair_image, mask_image, slices_per_example, slices_step, start_slice, train_split, seed, skip_empty_masks, fill_lesion)\n",
    "dataset_builder.build_dataset()"
   ]
  },
  {
   "cell_type": "markdown",
   "metadata": {},
   "source": [
    "### SHIFTS"
   ]
  },
  {
   "cell_type": "code",
   "execution_count": 3,
   "metadata": {},
   "outputs": [
    {
     "name": "stdout",
     "output_type": "stream",
     "text": [
      "Total empty masks skipped: 0\n",
      "In the preprocessed folder: Total examples: 1274, train examples: 1274 (100.00%), test examples: 0 (0.00%)\n",
      "In the hole dataset: Total examples: 1274, train examples: 1274 (100.00%), test examples: 0 (0.00%)\n",
      "Total empty masks skipped: 0\n",
      "In the preprocessed folder: Total examples: 1274, train examples: 1274 (100.00%), test examples: 0 (0.00%)\n",
      "In the hole dataset: Total examples: 1274, train examples: 1274 (100.00%), test examples: 0 (0.00%)\n"
     ]
    }
   ],
   "source": [
    "data_folder=\"/home/benet/data\"\n",
    "input_folder=\"SHIFTS_preprocessedMNI\" ###\n",
    "output_folder=\"generation2D_SHIFTS\"\n",
    "folders=[\"dev_in\", \"dev_out\", \"eval_in\", \"train\"] ###\n",
    "flair_image=\"flair.nii.gz\"\n",
    "mask_image=\"lesionMask.nii.gz\"\n",
    "slices_per_example=13\n",
    "slices_step=1\n",
    "start_slice=85\n",
    "train_split=1\n",
    "seed = 17844\n",
    "skip_empty_masks=False\n",
    "fill_lesion=True\n",
    "\n",
    "dataset_builder = MRILesionDatasetBuilder(data_folder, input_folder, output_folder, folders, flair_image, mask_image, slices_per_example, slices_step, start_slice, train_split, seed, skip_empty_masks, fill_lesion)\n",
    "dataset_builder.build_dataset()\n",
    "\n",
    "\n",
    "output_folder=\"lesion2D_SHIFTS\"\n",
    "fill_lesion=False\n",
    "dataset_builder = MRILesionDatasetBuilder(data_folder, input_folder, output_folder, folders, flair_image, mask_image, slices_per_example, slices_step, start_slice, train_split, seed, skip_empty_masks, fill_lesion)\n",
    "dataset_builder.build_dataset()"
   ]
  },
  {
   "cell_type": "markdown",
   "metadata": {},
   "source": [
    "### WMH2017"
   ]
  },
  {
   "cell_type": "code",
   "execution_count": null,
   "metadata": {},
   "outputs": [
    {
     "name": "stdout",
     "output_type": "stream",
     "text": [
      "Total empty masks skipped: 0\n",
      "In the preprocessed folder: Total examples: 780, train examples: 780 (100.00%), test examples: 0 (0.00%)\n",
      "In the hole dataset: Total examples: 780, train examples: 780 (100.00%), test examples: 0 (0.00%)\n",
      "Total empty masks skipped: 0\n",
      "In the preprocessed folder: Total examples: 780, train examples: 780 (100.00%), test examples: 0 (0.00%)\n",
      "In the hole dataset: Total examples: 780, train examples: 780 (100.00%), test examples: 0 (0.00%)\n"
     ]
    }
   ],
   "source": [
    "data_folder=\"/home/benet/data\"\n",
    "input_folder=\"WMH2017_preprocessedMNI\" ###\n",
    "output_folder=\"generation2D_WMH2017\"\n",
    "folders=None ###\n",
    "flair_image=\"flair.nii.gz\"\n",
    "mask_image=\"lesionMask.nii.gz\"\n",
    "slices_per_example=13\n",
    "slices_step=1\n",
    "start_slice=85\n",
    "train_split=1\n",
    "seed = 17844\n",
    "skip_empty_masks=False\n",
    "fill_lesion=True\n",
    "\n",
    "dataset_builder = MRILesionDatasetBuilder(data_folder, input_folder, output_folder, folders, flair_image, mask_image, slices_per_example, slices_step, start_slice, train_split, seed, skip_empty_masks, fill_lesion)\n",
    "dataset_builder.build_dataset()\n",
    "\n",
    "\n",
    "output_folder=\"lesion2D_WMH2017\"\n",
    "fill_lesion=False\n",
    "dataset_builder = MRILesionDatasetBuilder(data_folder, input_folder, output_folder, folders, flair_image, mask_image, slices_per_example, slices_step, start_slice, train_split, seed, skip_empty_masks, fill_lesion)\n",
    "dataset_builder.build_dataset()"
   ]
  }
 ],
 "metadata": {
  "kernelspec": {
   "display_name": "benetvicorob",
   "language": "python",
   "name": "python3"
  },
  "language_info": {
   "codemirror_mode": {
    "name": "ipython",
    "version": 3
   },
   "file_extension": ".py",
   "mimetype": "text/x-python",
   "name": "python",
   "nbconvert_exporter": "python",
   "pygments_lexer": "ipython3",
   "version": "3.12.9"
  }
 },
 "nbformat": 4,
 "nbformat_minor": 2
}
