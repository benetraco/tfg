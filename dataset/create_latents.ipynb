{
 "cells": [
  {
   "cell_type": "code",
   "execution_count": 1,
   "metadata": {},
   "outputs": [
    {
     "name": "stdout",
     "output_type": "stream",
     "text": [
      "/home/benet/tfg\n",
      "Repo Path: /home/benet/tfg\n",
      "Experiment Path: /home/benet/tfg/dataset\n"
     ]
    }
   ],
   "source": [
    "#Add repo path to the system path\n",
    "from pathlib import Path\n",
    "import os, sys\n",
    "repo_path= Path.cwd().resolve()\n",
    "while '.gitignore' not in os.listdir(repo_path): # while not in the root of the repo\n",
    "    repo_path = repo_path.parent #go up one level\n",
    "    print(repo_path)\n",
    "    \n",
    "sys.path.insert(0,str(repo_path)) if str(repo_path) not in sys.path else None\n",
    "exp_path = Path.cwd().resolve() # path to the experiment folder\n",
    "print(f\"Repo Path: {repo_path}\")\n",
    "print(f\"Experiment Path: {exp_path}\")"
   ]
  },
  {
   "cell_type": "code",
   "execution_count": 2,
   "metadata": {},
   "outputs": [
    {
     "data": {
      "text/plain": [
       "<torch._C.Generator at 0x7fd7ae726af0>"
      ]
     },
     "execution_count": 2,
     "metadata": {},
     "output_type": "execute_result"
    }
   ],
   "source": [
    "#Libraries\n",
    "import yaml\n",
    "import torch\n",
    "import numpy as np\n",
    "import matplotlib.pyplot as plt\n",
    "from torch.utils.data import DataLoader\n",
    "from torchvision.transforms import (\n",
    "    Compose,\n",
    "    Resize,\n",
    "    CenterCrop,\n",
    "    ToTensor,\n",
    "    Normalize,\n",
    "    InterpolationMode,\n",
    ")\n",
    "from diffusers import AutoencoderKL\n",
    "from PIL import Image\n",
    "\n",
    "# import the MRIDataset class from the dataset folder\n",
    "from dataset.build_dataset import MRIDataset\n",
    "\n",
    "np.random.seed(17844)\n",
    "torch.manual_seed(17844)\n"
   ]
  },
  {
   "cell_type": "code",
   "execution_count": null,
   "metadata": {},
   "outputs": [
    {
     "name": "stdout",
     "output_type": "stream",
     "text": [
      "Found 570 images in the dataset folder\n"
     ]
    }
   ],
   "source": [
    "resolution = 256\n",
    "\n",
    "# Dataset loading\n",
    "data_dir = repo_path / \"/home/benet/data/VH2D/images/flair\"\n",
    "latent_dir = repo_path / \"/home/benet/data/VH2D/images/latent_flair\"\n",
    "# create latent directory if it does not exist\n",
    "latent_dir.mkdir(exist_ok=True)\n",
    "\n",
    "# Define the transformations to apply to the images\n",
    "preprocess = Compose(\n",
    "    [\n",
    "        Resize(resolution, interpolation= InterpolationMode.BILINEAR), #getattr(InterpolationMode, config['processing']['interpolation'])),  # Smaller edge is resized to 256 preserving aspect ratio\n",
    "        CenterCrop(resolution),  # Center crop to the desired squared resolution\n",
    "        #RandomHorizontalFlip(),  # Horizontal flip may not be a good idea if we want generation only one laterality\n",
    "        ToTensor(),  # Convert to PyTorch tensor\n",
    "        Normalize(mean=[0.5], std=[0.5]),  # Map to (-1, 1) as a way to make data more similar to a Gaussian distribution\n",
    "    ]\n",
    ")\n",
    "\n",
    "\n",
    "image_files = [f for f in os.listdir(data_dir) if f.endswith(\".png\")]\n",
    "print(f\"Found {len(image_files)} images in the dataset folder\")"
   ]
  },
  {
   "cell_type": "code",
   "execution_count": 4,
   "metadata": {},
   "outputs": [
    {
     "name": "stdout",
     "output_type": "stream",
     "text": [
      "Device: cuda\n",
      "Pipeline directory: /home/benet/tfg/results/pipelines/fintuned_vae\n"
     ]
    }
   ],
   "source": [
    "device = torch.device(\"cuda\" if torch.cuda.is_available() else \"cpu\")\n",
    "print(f\"Device: {device}\")\n",
    "\n",
    "pipeline_dir = repo_path / 'results/pipelines' / 'fintuned_vae'\n",
    "print(f\"Pipeline directory: {pipeline_dir}\")"
   ]
  },
  {
   "cell_type": "code",
   "execution_count": null,
   "metadata": {},
   "outputs": [
    {
     "name": "stdout",
     "output_type": "stream",
     "text": [
      "torch.Size([4, 32, 32])\n"
     ]
    }
   ],
   "source": [
    "resolution = 256\n",
    "\n",
    "# Dataset loading\n",
    "data_dir = repo_path / \"/home/benet/data/VH2D/images/flair\"\n",
    "latent_dir = repo_path / \"/home/benet/data/VH2D/images/latent_flair\"\n",
    "# create latent directory if it does not exist\n",
    "latent_dir.mkdir(exist_ok=True)\n",
    "\n",
    "# Define the transformations to apply to the images\n",
    "preprocess = Compose(\n",
    "    [\n",
    "        Resize(resolution, interpolation= InterpolationMode.BILINEAR), #getattr(InterpolationMode, config['processing']['interpolation'])),  # Smaller edge is resized to 256 preserving aspect ratio\n",
    "        CenterCrop(resolution),  # Center crop to the desired squared resolution\n",
    "        #RandomHorizontalFlip(),  # Horizontal flip may not be a good idea if we want generation only one laterality\n",
    "        ToTensor(),  # Convert to PyTorch tensor\n",
    "        Normalize(mean=[0.5], std=[0.5]),  # Map to (-1, 1) as a way to make data more similar to a Gaussian distribution\n",
    "    ]\n",
    ")\n",
    "\n",
    "\n",
    "image_files = [f for f in os.listdir(data_dir) if f.endswith(\".png\")]\n",
    "print(f\"Found {len(image_files)} images in the dataset folder\")\n",
    "\n",
    "\n",
    "device = torch.device(\"cuda\" if torch.cuda.is_available() else \"cpu\")\n",
    "print(f\"Device: {device}\")\n",
    "\n",
    "pipeline_dir = repo_path / 'results/pipelines' / 'fintuned_vae'\n",
    "print(f\"Pipeline directory: {pipeline_dir}\")\n",
    "\n",
    "\n",
    "vae = AutoencoderKL.from_pretrained(pipeline_dir)\n",
    "vae.to(device).eval()\n",
    "\n",
    "with torch.no_grad():\n",
    "    for image_file in image_files:\n",
    "        img_path = os.path.join(data_dir, image_file)\n",
    "        #remove .png extension and add latent in the image name\n",
    "        image_file = image_file.split('.')[0] + \"_latent\"\n",
    "        image = Image.open(img_path).convert(\"RGB\")\n",
    "\n",
    "        image = preprocess(image).unsqueeze(0).to(device)\n",
    "        latent = vae.encode(image).latent_dist.sample().squeeze(0)\n",
    "        print(latent.shape)\n",
    "        # ax.imshow(latent[j].cpu().numpy(), cmap=\"gray\")\n",
    "        # save the four latent images\n",
    "        latent = latent.cpu().numpy()\n",
    "        for j in range(4):\n",
    "            plt.imsave(latent_dir / f\"{image_file}_{j}.png\", latent[j], cmap=\"gray\")        "
   ]
  }
 ],
 "metadata": {
  "kernelspec": {
   "display_name": "benetvicorob",
   "language": "python",
   "name": "python3"
  },
  "language_info": {
   "codemirror_mode": {
    "name": "ipython",
    "version": 3
   },
   "file_extension": ".py",
   "mimetype": "text/x-python",
   "name": "python",
   "nbconvert_exporter": "python",
   "pygments_lexer": "ipython3",
   "version": "3.12.9"
  }
 },
 "nbformat": 4,
 "nbformat_minor": 2
}
