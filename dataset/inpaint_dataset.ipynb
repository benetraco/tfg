{
 "cells": [
  {
   "cell_type": "code",
   "execution_count": 1,
   "metadata": {},
   "outputs": [
    {
     "name": "stderr",
     "output_type": "stream",
     "text": [
      "2025-05-19 17:04:39.399219: I tensorflow/core/util/port.cc:153] oneDNN custom operations are on. You may see slightly different numerical results due to floating-point round-off errors from different computation orders. To turn them off, set the environment variable `TF_ENABLE_ONEDNN_OPTS=0`.\n",
      "2025-05-19 17:04:39.421807: E external/local_xla/xla/stream_executor/cuda/cuda_fft.cc:467] Unable to register cuFFT factory: Attempting to register factory for plugin cuFFT when one has already been registered\n",
      "WARNING: All log messages before absl::InitializeLog() is called are written to STDERR\n",
      "E0000 00:00:1747667079.450327 2424393 cuda_dnn.cc:8579] Unable to register cuDNN factory: Attempting to register factory for plugin cuDNN when one has already been registered\n",
      "E0000 00:00:1747667079.458753 2424393 cuda_blas.cc:1407] Unable to register cuBLAS factory: Attempting to register factory for plugin cuBLAS when one has already been registered\n",
      "W0000 00:00:1747667079.479932 2424393 computation_placer.cc:177] computation placer already registered. Please check linkage and avoid linking the same target more than once.\n",
      "W0000 00:00:1747667079.479966 2424393 computation_placer.cc:177] computation placer already registered. Please check linkage and avoid linking the same target more than once.\n",
      "W0000 00:00:1747667079.479969 2424393 computation_placer.cc:177] computation placer already registered. Please check linkage and avoid linking the same target more than once.\n",
      "W0000 00:00:1747667079.479971 2424393 computation_placer.cc:177] computation placer already registered. Please check linkage and avoid linking the same target more than once.\n",
      "2025-05-19 17:04:39.488137: I tensorflow/core/platform/cpu_feature_guard.cc:210] This TensorFlow binary is optimized to use available CPU instructions in performance-critical operations.\n",
      "To enable the following instructions: AVX2 AVX512F AVX512_VNNI FMA, in other operations, rebuild TensorFlow with the appropriate compiler flags.\n"
     ]
    }
   ],
   "source": [
    "from build_dataset import MRILesionDatasetBuilder"
   ]
  },
  {
   "cell_type": "markdown",
   "metadata": {},
   "source": [
    "# Build the dataset for the lesion inpaiting model\n",
    "- Train / test split\n",
    "- Filter out slices with no lesions\n",
    "- Include SHIFTS and WMH2017 datasets"
   ]
  },
  {
   "cell_type": "markdown",
   "metadata": {},
   "source": [
    "### VH"
   ]
  },
  {
   "cell_type": "code",
   "execution_count": 2,
   "metadata": {},
   "outputs": [
    {
     "name": "stdout",
     "output_type": "stream",
     "text": [
      "Total empty masks skipped: 0\n",
      "In the preprocessed folder: Total examples: 741, train examples: 507 (68.42%), test examples: 234 (31.58%)\n",
      "In the hole dataset: Total examples: 741, train examples: 507 (68.42%), test examples: 234 (31.58%)\n"
     ]
    }
   ],
   "source": [
    "data_folder=\"/home/benet/data\"\n",
    "input_folder=\"VH\"\n",
    "output_folder=\"lesion2D_VH-SHIFTS-WMH2017\"\n",
    "folders=[\"train\", \"test\"]\n",
    "flair_image=\"flair.nii.gz\"\n",
    "mask_image=\"lesionMask.nii.gz\"\n",
    "slices_per_example=13\n",
    "slices_step=1\n",
    "start_slice=85\n",
    "train_split=0.7\n",
    "seed = 17844\n",
    "\n",
    "# dataset_builder = MRILesionDatasetBuilder(data_folder, input_folder, output_folder, folders, flair_image, mask_image, slices_per_example, slices_step, start_slice, train_split, seed)\n",
    "# dataset_builder.build_dataset()\n",
    "\n",
    "output_folder=\"lesion2D_VH-SHIFTS-WMH2017_empty_masks\"\n",
    "skip_empty_masks = False\n",
    "dataset_builder = MRILesionDatasetBuilder(data_folder, input_folder, output_folder, folders, flair_image, mask_image, slices_per_example, slices_step, start_slice, train_split, seed, skip_empty_masks)\n",
    "dataset_builder.build_dataset()"
   ]
  },
  {
   "cell_type": "markdown",
   "metadata": {},
   "source": [
    "### SHIFTS"
   ]
  },
  {
   "cell_type": "code",
   "execution_count": 3,
   "metadata": {},
   "outputs": [
    {
     "name": "stdout",
     "output_type": "stream",
     "text": [
      "Total empty masks skipped: 0\n",
      "In the preprocessed folder: Total examples: 1274, train examples: 871 (68.37%), test examples: 403 (31.63%)\n",
      "In the hole dataset: Total examples: 2015, train examples: 1378 (68.39%), test examples: 637 (31.61%)\n"
     ]
    }
   ],
   "source": [
    "data_folder=\"/home/benet/data\"\n",
    "input_folder=\"SHIFTS_preprocessedMNI\" ###\n",
    "output_folder=\"lesion2D_VH-SHIFTS-WMH2017\"\n",
    "folders=[\"dev_in\", \"dev_out\", \"eval_in\", \"train\"] ###\n",
    "flair_image=\"flair.nii.gz\"\n",
    "mask_image=\"lesionMask.nii.gz\"\n",
    "slices_per_example=13\n",
    "slices_step=1\n",
    "start_slice=85\n",
    "seed = 17844\n",
    "\n",
    "# dataset_builder = MRILesionDatasetBuilder(data_folder, input_folder, output_folder, folders, flair_image, mask_image, slices_per_example, slices_step, start_slice, train_split, seed)\n",
    "# dataset_builder.build_dataset()\n",
    "\n",
    "output_folder=\"lesion2D_VH-SHIFTS-WMH2017_empty_masks\"\n",
    "skip_empty_masks = False\n",
    "dataset_builder = MRILesionDatasetBuilder(data_folder, input_folder, output_folder, folders, flair_image, mask_image, slices_per_example, slices_step, start_slice, train_split, seed, skip_empty_masks)\n",
    "dataset_builder.build_dataset()"
   ]
  },
  {
   "cell_type": "markdown",
   "metadata": {},
   "source": [
    "### WMH2017"
   ]
  },
  {
   "cell_type": "code",
   "execution_count": 4,
   "metadata": {},
   "outputs": [
    {
     "name": "stdout",
     "output_type": "stream",
     "text": [
      "Total empty masks skipped: 0\n",
      "In the preprocessed folder: Total examples: 780, train examples: 546 (70.00%), test examples: 234 (30.00%)\n",
      "In the hole dataset: Total examples: 2795, train examples: 1924 (68.84%), test examples: 871 (31.16%)\n"
     ]
    }
   ],
   "source": [
    "data_folder=\"/home/benet/data\"\n",
    "input_folder=\"WMH2017_preprocessedMNI\" ###\n",
    "output_folder=\"lesion2D_VH-SHIFTS-WMH2017\"\n",
    "folders=None ###\n",
    "flair_image=\"flair.nii.gz\"\n",
    "mask_image=\"lesionMask.nii.gz\"\n",
    "slices_per_example=13\n",
    "slices_step=1\n",
    "start_slice=85\n",
    "seed = 17844\n",
    "\n",
    "# dataset_builder = MRILesionDatasetBuilder(data_folder, input_folder, output_folder, folders, flair_image, mask_image, slices_per_example, slices_step, start_slice, train_split, seed)\n",
    "# dataset_builder.build_dataset()\n",
    "\n",
    "output_folder=\"lesion2D_VH-SHIFTS-WMH2017_empty_masks\"\n",
    "skip_empty_masks = False\n",
    "dataset_builder = MRILesionDatasetBuilder(data_folder, input_folder, output_folder, folders, flair_image, mask_image, slices_per_example, slices_step, start_slice, train_split, seed, skip_empty_masks)\n",
    "dataset_builder.build_dataset()"
   ]
  }
 ],
 "metadata": {
  "kernelspec": {
   "display_name": "benetvicorob",
   "language": "python",
   "name": "python3"
  },
  "language_info": {
   "codemirror_mode": {
    "name": "ipython",
    "version": 3
   },
   "file_extension": ".py",
   "mimetype": "text/x-python",
   "name": "python",
   "nbconvert_exporter": "python",
   "pygments_lexer": "ipython3",
   "version": "3.12.9"
  }
 },
 "nbformat": 4,
 "nbformat_minor": 2
}
