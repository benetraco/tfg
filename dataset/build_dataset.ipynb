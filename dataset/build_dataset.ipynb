{
 "cells": [
  {
   "cell_type": "markdown",
   "metadata": {},
   "source": [
    "# Build the dataset\n",
    "From each VH brain, slice from the center with steps of 4-5 and generate about 5 2D images. In total 57x5=285 images (make it adjustable if more images are wanted)"
   ]
  },
  {
   "cell_type": "code",
   "execution_count": 3,
   "metadata": {},
   "outputs": [],
   "source": [
    "import os\n",
    "import nibabel as nib\n",
    "import numpy as np\n",
    "import matplotlib.pyplot as plt\n",
    "import plotly.graph_objects as go\n"
   ]
  },
  {
   "cell_type": "code",
   "execution_count": null,
   "metadata": {},
   "outputs": [],
   "source": [
    "# Path to the data folder\n",
    "# data_folder = \"/data/shared/Lili/VH_MNI\"\n",
    "# folder = \"/VH2016\"\n",
    "# Path to the data folder\n",
    "data_folder = \"/home/benet/data/VH\"\n",
    "folders = [\"/train\", \"/test\"]  # Both train and test folders\n",
    "flair_image = \"flair.nii.gz\"\n",
    "mask_image = \"lesionMask.nii.gz\"\n",
    "slices_per_example = 5  # Number of slices to save per example\n",
    "slices_step = 3  # Number of slices to skip between each slice\n",
    "start_slice = 88  # Starting slice\n",
    "output_folder = \"/home/benet/data/VH_slices\"\n",
    "\n",
    "# Create the output folder and subfolders if they don't exist\n",
    "if not os.path.exists(output_folder):\n",
    "    os.makedirs(output_folder)\n",
    "if not os.path.exists(os.path.join(output_folder, \"images\")):\n",
    "    os.makedirs(os.path.join(output_folder, \"images\"))\n",
    "if not os.path.exists(os.path.join(output_folder, \"images\", \"flair\")):\n",
    "    os.makedirs(os.path.join(output_folder, \"images\", \"flair\"))\n",
    "if not os.path.exists(os.path.join(output_folder, \"images\", \"mask\")):\n",
    "    os.makedirs(os.path.join(output_folder, \"images\", \"mask\"))\n",
    "if not os.path.exists(os.path.join(output_folder, \"npy\")):\n",
    "    os.makedirs(os.path.join(output_folder, \"npy\"))\n",
    "if not os.path.exists(os.path.join(output_folder, \"npy\", \"flair\")):\n",
    "    os.makedirs(os.path.join(output_folder, \"npy\", \"flair\"))\n",
    "if not os.path.exists(os.path.join(output_folder, \"npy\", \"mask\")):\n",
    "    os.makedirs(os.path.join(output_folder, \"npy\", \"mask\"))\n",
    "\n",
    "for folder in folders:\n",
    "    examples = sorted(os.listdir(data_folder + folder))  # Get all example folders\n",
    "    \n",
    "    for example in examples:\n",
    "        example_path = os.path.join(data_folder+folder, example)\n",
    "        \n",
    "        if not os.path.isdir(example_path):  # Skip if it's not a directory\n",
    "            print(f\"Skipping {example_path}\")\n",
    "            continue\n",
    "\n",
    "        flair_path = os.path.join(example_path, flair_image)\n",
    "        mask_path = os.path.join(example_path, mask_image)\n",
    "        flair = nib.load(flair_path)\n",
    "        mask = nib.load(mask_path)\n",
    "        flair_data = flair.get_fdata()\n",
    "        mask_data = mask.get_fdata()\n",
    "        \n",
    "        # Determine the number of slices\n",
    "        n_slices = flair_data.shape[2]\n",
    "        assert n_slices == mask_data.shape[2]\n",
    "\n",
    "        end_slice = start_slice + slices_per_example * slices_step\n",
    "        j = 0\n",
    "        for i in range(start_slice, end_slice, slices_step):\n",
    "            #save each image as a png and a npy file\n",
    "            flair_slice = flair_data[:, :, i]\n",
    "            mask_slice = mask_data[:, :, i]\n",
    "            flair_slice = np.rot90(flair_slice)\n",
    "            mask_slice = np.rot90(mask_slice)\n",
    "\n",
    "            # Save the images\n",
    "            flair_slice_path = os.path.join(output_folder, \"images\", \"flair\", f\"{example}_{j}.png\")\n",
    "            mask_slice_path = os.path.join(output_folder, \"images\", \"mask\", f\"{example}_{j}.png\")\n",
    "            npy_flair_slice_path = os.path.join(output_folder, \"npy\", \"flair\", f\"{example}_{j}.npy\")\n",
    "            npy_mask_slice_path = os.path.join(output_folder, \"npy\", \"mask\", f\"{example}_{j}.npy\")\n",
    "\n",
    "            plt.imsave(flair_slice_path, flair_slice, cmap=\"gray\")\n",
    "            plt.imsave(mask_slice_path, mask_slice, cmap=\"gray\")\n",
    "            np.save(npy_flair_slice_path, flair_slice)\n",
    "            np.save(npy_mask_slice_path, mask_slice)\n",
    "            \n",
    "            j += 1\n",
    "        \n",
    "        break\n",
    "    break\n"
   ]
  }
 ],
 "metadata": {
  "kernelspec": {
   "display_name": "benetvicorob",
   "language": "python",
   "name": "python3"
  },
  "language_info": {
   "codemirror_mode": {
    "name": "ipython",
    "version": 3
   },
   "file_extension": ".py",
   "mimetype": "text/x-python",
   "name": "python",
   "nbconvert_exporter": "python",
   "pygments_lexer": "ipython3",
   "version": "3.12.9"
  }
 },
 "nbformat": 4,
 "nbformat_minor": 2
}
