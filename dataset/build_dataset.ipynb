{
 "cells": [
  {
   "cell_type": "code",
   "execution_count": 1,
   "metadata": {},
   "outputs": [],
   "source": [
    "from build_dataset import MRIDatasetBuilder, MRIDataset, LatentImageProcessor\n",
    "from torch.utils.data import DataLoader"
   ]
  },
  {
   "cell_type": "markdown",
   "metadata": {},
   "source": [
    "# Build the dataset"
   ]
  },
  {
   "cell_type": "code",
   "execution_count": null,
   "metadata": {},
   "outputs": [],
   "source": [
    "##### Example Usage of the MRIDatasetBuilder\n",
    "data_folder = \"/home/benet/data\"\n",
    "input_folder = \"VH\"\n",
    "output_folder = \"VH2D\"\n",
    "folders = [\"train\", \"test\"]\n",
    "flair_image = \"flair.nii.gz\"\n",
    "mask_image = \"lesionMask.nii.gz\"\n",
    "slices_per_example = 5\n",
    "slices_step = 3\n",
    "start_slice = 88\n",
    "\n",
    "dataset_builder = MRIDatasetBuilder(data_folder, input_folder, output_folder, folders, flair_image, mask_image, slices_per_example, slices_step, start_slice)\n",
    "dataset_builder.build_dataset()\n",
    "dataset_builder.show_sample()\n",
    "dataset_builder.show_sample(image_name=\"739\")"
   ]
  },
  {
   "cell_type": "markdown",
   "metadata": {},
   "source": [
    "# Create a dataset"
   ]
  },
  {
   "cell_type": "code",
   "execution_count": 11,
   "metadata": {},
   "outputs": [
    {
     "name": "stdout",
     "output_type": "stream",
     "text": [
      "Number of samples in the dataset: 570\n",
      "Number of batches in the dataloader: 18\n"
     ]
    }
   ],
   "source": [
    "#### Example Usage of the MRIDataset\n",
    "from torch.utils.data import DataLoader\n",
    "from torchvision.transforms import Compose, Resize, CenterCrop, RandomHorizontalFlip, ToTensor, Normalize\n",
    "from torchvision.transforms.functional import InterpolationMode\n",
    "data_dir = \"/home/benet/data/VH2D/images/flair\"\n",
    "resolution = 256\n",
    "batch_size = 32\n",
    "num_workers = 4\n",
    "\n",
    "preprocess = Compose(\n",
    "    [\n",
    "        Resize(resolution, interpolation= InterpolationMode.BILINEAR), #getattr(InterpolationMode, config['processing']['interpolation'])),  # Smaller edge is resized to 256 preserving aspect ratio\n",
    "        CenterCrop(resolution),  # Center crop to the desired squared resolution\n",
    "        #RandomHorizontalFlip(),  # Horizontal flip may not be a good idea if we want generation only one laterality\n",
    "        ToTensor(),  # Convert to PyTorch tensor\n",
    "        Normalize(mean=[0.5], std=[0.5]),  # Map to (-1, 1) as a way to make data more similar to a Gaussian distribution\n",
    "        lambda x: x.repeat(3, 1, 1)  # Trick to turn Grayscale into 3 channels\n",
    "    ]\n",
    ")\n",
    "\n",
    "# Create dataset with the defined transformations\n",
    "dataset = MRIDataset(data_dir, transform=preprocess)\n",
    "# Create the dataloader\n",
    "train_dataloader = DataLoader(\n",
    "    dataset, batch_size=batch_size, num_workers= num_workers, shuffle=True\n",
    ")\n",
    "print(f\"Number of samples in the dataset: {len(dataset)}\")\n",
    "print(f\"Number of batches in the dataloader: {len(train_dataloader)}\")\n"
   ]
  },
  {
   "cell_type": "markdown",
   "metadata": {},
   "source": [
    "# Create ans save Latents"
   ]
  },
  {
   "cell_type": "code",
   "execution_count": 2,
   "metadata": {},
   "outputs": [
    {
     "name": "stdout",
     "output_type": "stream",
     "text": [
      "/home/benet/tfg\n",
      "Device: cuda\n",
      "Found 570 images in the dataset folder\n",
      "2280 latent images saved in /home/benet/data/VH2D/latent_flair_scaled\n"
     ]
    }
   ],
   "source": [
    "from pathlib import Path\n",
    "import os\n",
    "repo_path= Path.cwd().resolve()\n",
    "while '.gitignore' not in os.listdir(repo_path): # while not in the root of the repo\n",
    "    repo_path = repo_path.parent #go up one level\n",
    "    print(repo_path)\n",
    "processor = LatentImageProcessor(repo_path, output_dir = \"/home/benet/data/VH2D/latent_flair_scaled\", scale=True)\n",
    "processor.process_images()"
   ]
  }
 ],
 "metadata": {
  "kernelspec": {
   "display_name": "benetvicorob",
   "language": "python",
   "name": "python3"
  },
  "language_info": {
   "codemirror_mode": {
    "name": "ipython",
    "version": 3
   },
   "file_extension": ".py",
   "mimetype": "text/x-python",
   "name": "python",
   "nbconvert_exporter": "python",
   "pygments_lexer": "ipython3",
   "version": "3.12.9"
  }
 },
 "nbformat": 4,
 "nbformat_minor": 2
}
