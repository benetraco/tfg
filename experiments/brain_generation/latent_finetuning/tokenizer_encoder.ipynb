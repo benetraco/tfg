{
 "cells": [
  {
   "cell_type": "markdown",
   "metadata": {},
   "source": [
    "Script to generate the encoders of the prompt"
   ]
  },
  {
   "cell_type": "code",
   "execution_count": 1,
   "metadata": {},
   "outputs": [
    {
     "name": "stdout",
     "output_type": "stream",
     "text": [
      "/home/benet/tfg/experiments\n",
      "/home/benet/tfg\n",
      "Repo Path: /home/benet/tfg\n",
      "Experiment Path: /home/benet/tfg/experiments/latent_finetuning\n"
     ]
    }
   ],
   "source": [
    "#Add repo path to the system path\n",
    "from pathlib import Path\n",
    "import os, sys\n",
    "repo_path= Path.cwd().resolve()\n",
    "while '.gitignore' not in os.listdir(repo_path): # while not in the root of the repo\n",
    "    repo_path = repo_path.parent #go up one level\n",
    "    print(repo_path)\n",
    "    \n",
    "sys.path.insert(0,str(repo_path)) if str(repo_path) not in sys.path else None\n",
    "exp_path = Path.cwd().resolve() # path to the experiment folder\n",
    "\n",
    "print(f\"Repo Path: {repo_path}\")\n",
    "print(f\"Experiment Path: {exp_path}\")"
   ]
  },
  {
   "cell_type": "code",
   "execution_count": 2,
   "metadata": {},
   "outputs": [],
   "source": [
    "#Libraries\n",
    "import yaml\n",
    "import math\n",
    "import numpy as np\n",
    "import torch\n",
    "import torch.nn.functional as F\n",
    "from torch.utils.data import DataLoader\n",
    "from tqdm import tqdm\n",
    "from torchvision.transforms import (\n",
    "    Compose,\n",
    "    Resize,\n",
    "    CenterCrop,\n",
    "    ToTensor,\n",
    "    Normalize,\n",
    "    InterpolationMode,\n",
    ")\n",
    "import wandb\n",
    "import datasets, diffusers\n",
    "from diffusers import (\n",
    "    UNet2DModel,\n",
    "    DDPMScheduler,\n",
    ")   \n",
    "from diffusers import DDPMPipeline, AutoencoderKL, DiffusionPipeline\n",
    "from diffusers.optimization import get_scheduler\n",
    "from diffusers.utils import check_min_version\n",
    "from diffusers.utils.import_utils import is_xformers_available\n",
    "from transformers import CLIPTokenizer, CLIPTextModel\n",
    "import logging\n",
    "from accelerate.logging import get_logger\n",
    "from accelerate import Accelerator\n",
    "\n",
    "device = torch.device(\"cuda\" if torch.cuda.is_available() else \"cpu\")\n"
   ]
  },
  {
   "cell_type": "code",
   "execution_count": 3,
   "metadata": {},
   "outputs": [
    {
     "data": {
      "application/vnd.jupyter.widget-view+json": {
       "model_id": "1ea8c941f7c74b35a15da2d8ffd9f37f",
       "version_major": 2,
       "version_minor": 0
      },
      "text/plain": [
       "Loading pipeline components...:   0%|          | 0/7 [00:00<?, ?it/s]"
      ]
     },
     "metadata": {},
     "output_type": "display_data"
    }
   ],
   "source": [
    "# load the config file\n",
    "config_path = exp_path / 'config_latent_finetuning.yaml' # configuration file path (beter to call it from the args parser)\n",
    "with open(config_path) as file: # expects the config file to be in the same directory\n",
    "    config = yaml.load(file, Loader=yaml.FullLoader)\n",
    "\n",
    "# Load the diffusion model\n",
    "ldm = DiffusionPipeline.from_pretrained(\"CompVis/stable-diffusion-v1-4\")\n",
    "\n",
    "\n",
    "# if config['text_promt']['prompt'] is not None:\n",
    "#         # Encode prompt properly\n",
    "#     prompt = [config['text_promt']['prompt']] * config['processing']['batch_size']\n",
    "#     name = config['text_promt']['prompt'].replace(\" \", \"_\")\n",
    "\n",
    "# else:\n",
    "#     # Make sure the text embeddings are None but in the format (batch_size, num_tokens, hidden_size)\n",
    "#     prompt = [\"\"] * config['processing']['batch_size']\n",
    "#     name = \"empty_prompt\"\n",
    "    \n",
    "# tokenizer = ldm.tokenizer\n",
    "# text_encoder = ldm.text_encoder.to(device)\n",
    "\n",
    "# # Load tokenizer and text encoder and encode prompt\n",
    "# text_inputs = tokenizer(prompt, padding=\"max_length\", max_length=77, return_tensors=\"pt\").to(device)\n",
    "# text_embeddings = text_encoder(**text_inputs).last_hidden_state\n",
    "# print(text_embeddings.shape)\n",
    "\n",
    "# # save the embeddings in a folder for later use with the name of the prompt\n",
    "# print(name)\n",
    "# os.makedirs(exp_path / 'text_embeddings', exist_ok=True)\n",
    "# torch.save(text_embeddings, exp_path / 'text_embeddings' / f'{name}.pt')\n",
    "# print(f\"Text embeddings saved in {exp_path / 'text_embeddings' / f'{name}.pt'}\")\n"
   ]
  },
  {
   "cell_type": "code",
   "execution_count": 14,
   "metadata": {},
   "outputs": [],
   "source": [
    "def get_embeddings(prompt, bs, ldm):\n",
    "    \"\"\"\n",
    "    Function to get the text embeddings from the prompt\n",
    "    \"\"\"\n",
    "    if prompt is not None:\n",
    "            # Encode prompt properly\n",
    "        prompt = prompt #* bs\n",
    "        name = prompt.replace(\" \", \"_\")\n",
    "    else:\n",
    "        # Make sure the text embeddings are None but in the format (batch_size, num_tokens, hidden_size)\n",
    "        prompt = \"\" #* bs\n",
    "        name = \"empty_prompt\"\n",
    "        \n",
    "    tokenizer = ldm.tokenizer\n",
    "    text_encoder = ldm.text_encoder\n",
    "\n",
    "    # Load tokenizer and text encoder and encode prompt\n",
    "    text_inputs = tokenizer(prompt, padding=\"max_length\", max_length=77, return_tensors=\"pt\")\n",
    "    text_embeddings = text_encoder(**text_inputs).last_hidden_state\n",
    "    return text_embeddings"
   ]
  },
  {
   "cell_type": "code",
   "execution_count": 15,
   "metadata": {},
   "outputs": [],
   "source": [
    "text_embeddings = get_embeddings(config['text_promt']['prompt'], config['processing']['batch_size'], ldm)\n"
   ]
  },
  {
   "cell_type": "code",
   "execution_count": 16,
   "metadata": {},
   "outputs": [
    {
     "data": {
      "text/plain": [
       "torch.Size([1, 77, 768])"
      ]
     },
     "execution_count": 16,
     "metadata": {},
     "output_type": "execute_result"
    }
   ],
   "source": [
    "text_embeddings.shape"
   ]
  },
  {
   "cell_type": "code",
   "execution_count": 17,
   "metadata": {},
   "outputs": [
    {
     "data": {
      "text/plain": [
       "torch.Size([4, 77, 768])"
      ]
     },
     "execution_count": 17,
     "metadata": {},
     "output_type": "execute_result"
    }
   ],
   "source": [
    "bs = config['processing']['batch_size']\n",
    "text_embeddings = text_embeddings.expand(bs, -1, -1)\n",
    "text_embeddings.shape"
   ]
  },
  {
   "cell_type": "code",
   "execution_count": 4,
   "metadata": {},
   "outputs": [
    {
     "name": "stdout",
     "output_type": "stream",
     "text": [
      "torch.Size([1, 77, 768])\n"
     ]
    }
   ],
   "source": [
    "# Load the embeddings\n",
    "name = config['text_promt']['embedding_name']\n",
    "text_embeddings = torch.load(exp_path / 'text_embeddings' / f'{name}.pt')\n",
    "print(text_embeddings.shape)"
   ]
  }
 ],
 "metadata": {
  "kernelspec": {
   "display_name": "benetvicorob",
   "language": "python",
   "name": "python3"
  },
  "language_info": {
   "codemirror_mode": {
    "name": "ipython",
    "version": 3
   },
   "file_extension": ".py",
   "mimetype": "text/x-python",
   "name": "python",
   "nbconvert_exporter": "python",
   "pygments_lexer": "ipython3",
   "version": "3.12.9"
  }
 },
 "nbformat": 4,
 "nbformat_minor": 2
}
