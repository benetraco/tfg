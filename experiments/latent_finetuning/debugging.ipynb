{
 "cells": [
  {
   "cell_type": "code",
   "execution_count": 3,
   "metadata": {},
   "outputs": [
    {
     "name": "stdout",
     "output_type": "stream",
     "text": [
      "/home/benet/tfg/experiments\n",
      "/home/benet/tfg\n",
      "Repo Path: /home/benet/tfg\n",
      "Experiment Path: /home/benet/tfg/experiments/latent_finetuning\n"
     ]
    }
   ],
   "source": [
    "#Add repo path to the system path\n",
    "from pathlib import Path\n",
    "import os, sys\n",
    "repo_path= Path.cwd().resolve()\n",
    "while '.gitignore' not in os.listdir(repo_path): # while not in the root of the repo\n",
    "    repo_path = repo_path.parent #go up one level\n",
    "    print(repo_path)\n",
    "    \n",
    "sys.path.insert(0,str(repo_path)) if str(repo_path) not in sys.path else None\n",
    "exp_path = Path.cwd().resolve() # path to the experiment folder\n",
    "\n",
    "print(f\"Repo Path: {repo_path}\")\n",
    "print(f\"Experiment Path: {exp_path}\")\n",
    "\n",
    "#Libraries\n",
    "import yaml\n",
    "import math\n",
    "import numpy as np\n",
    "import torch\n",
    "import torch.nn.functional as F\n",
    "from torch.utils.data import DataLoader\n",
    "from tqdm import tqdm\n",
    "from torchvision.transforms import (\n",
    "    Compose,\n",
    "    Resize,\n",
    "    CenterCrop,\n",
    "    ToTensor,\n",
    "    Normalize,\n",
    "    InterpolationMode,\n",
    ")\n",
    "import wandb\n",
    "import datasets, diffusers\n",
    "from diffusers import (\n",
    "    UNet2DModel,\n",
    "    DDPMScheduler,\n",
    ")   \n",
    "from diffusers import DDPMPipeline, AutoencoderKL, DiffusionPipeline\n",
    "from diffusers.optimization import get_scheduler\n",
    "from diffusers.utils import check_min_version\n",
    "from diffusers.utils.import_utils import is_xformers_available\n",
    "from transformers import CLIPTokenizer, CLIPTextModel\n",
    "import logging\n",
    "from accelerate.logging import get_logger\n",
    "from accelerate import Accelerator\n",
    "\n",
    "# extra\n",
    "from packaging import version\n",
    "\n",
    "# import the MRIDataset class from the dataset folder\n",
    "from dataset.build_dataset import MRIDataset"
   ]
  },
  {
   "cell_type": "code",
   "execution_count": 11,
   "metadata": {},
   "outputs": [
    {
     "data": {
      "application/vnd.jupyter.widget-view+json": {
       "model_id": "ad14e232466c4269a7ff4eb351f48d2f",
       "version_major": 2,
       "version_minor": 0
      },
      "text/plain": [
       "Loading pipeline components...:   0%|          | 0/7 [00:00<?, ?it/s]"
      ]
     },
     "metadata": {},
     "output_type": "display_data"
    }
   ],
   "source": [
    "config_path = exp_path / 'config_latent_finetuning.yaml' # configuration file path (beter to call it from the args parser)\n",
    "with open(config_path) as file: # expects the config file to be in the same directory\n",
    "    config = yaml.load(file, Loader=yaml.FullLoader)\n",
    "\n",
    "# Load the diffusion model\n",
    "ldm = DiffusionPipeline.from_pretrained(\"CompVis/stable-diffusion-v1-4\")\n",
    "model = ldm.unet.to(\"cpu\")\n"
   ]
  },
  {
   "cell_type": "code",
   "execution_count": 16,
   "metadata": {},
   "outputs": [
    {
     "name": "stdout",
     "output_type": "stream",
     "text": [
      "torch.Size([32, 77, 768])\n"
     ]
    }
   ],
   "source": [
    "\n",
    "\n",
    "if config['model']['prompt'] is not None:\n",
    "    # Encode prompt properly\n",
    "    prompt = [config['model']['prompt']] * config['processing']['batch_size']\n",
    "else:\n",
    "    # Make sure the text embeddings are None but in the format (batch_size, num_tokens, hidden_size)\n",
    "    prompt = [\"\"] * config['processing']['batch_size']\n",
    "    \n",
    "tokenizer = ldm.tokenizer\n",
    "text_encoder = ldm.text_encoder.to(\"cpu\")\n",
    "\n",
    "# Load tokenizer and text encoder and encode prompt\n",
    "text_inputs = tokenizer(prompt, padding=\"max_length\", max_length=77, return_tensors=\"pt\").to(\"cpu\")\n",
    "text_embeddings = text_encoder(**text_inputs).last_hidden_state\n",
    "\n",
    "# Now you can check the shape\n",
    "print(text_embeddings.shape)\n",
    "\n"
   ]
  },
  {
   "cell_type": "code",
   "execution_count": 10,
   "metadata": {},
   "outputs": [
    {
     "ename": "AttributeError",
     "evalue": "'list' object has no attribute 'shape'",
     "output_type": "error",
     "traceback": [
      "\u001b[0;31m---------------------------------------------------------------------------\u001b[0m",
      "\u001b[0;31mAttributeError\u001b[0m                            Traceback (most recent call last)",
      "Cell \u001b[0;32mIn[10], line 1\u001b[0m\n\u001b[0;32m----> 1\u001b[0m text_embeddings\u001b[38;5;241m.\u001b[39mshape\n",
      "\u001b[0;31mAttributeError\u001b[0m: 'list' object has no attribute 'shape'"
     ]
    }
   ],
   "source": [
    "text_embeddings.shape"
   ]
  }
 ],
 "metadata": {
  "kernelspec": {
   "display_name": "benetvicorob",
   "language": "python",
   "name": "python3"
  },
  "language_info": {
   "codemirror_mode": {
    "name": "ipython",
    "version": 3
   },
   "file_extension": ".py",
   "mimetype": "text/x-python",
   "name": "python",
   "nbconvert_exporter": "python",
   "pygments_lexer": "ipython3",
   "version": "3.12.9"
  }
 },
 "nbformat": 4,
 "nbformat_minor": 2
}
