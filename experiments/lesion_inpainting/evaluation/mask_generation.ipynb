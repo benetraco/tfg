{
 "cells": [
  {
   "cell_type": "markdown",
   "id": "ba1e1122",
   "metadata": {},
   "source": [
    "# Notebook to generate realistic masks on already lesioned images"
   ]
  },
  {
   "cell_type": "code",
   "execution_count": 39,
   "id": "28a1908d",
   "metadata": {},
   "outputs": [],
   "source": [
    "import os\n",
    "\n",
    "def count_and_list_middle_numbers(directory, dataset_name):\n",
    "    \"\"\"\n",
    "    Count and list the distinct subject IDs (middle numbers) for a given dataset.\n",
    "\n",
    "    Args:\n",
    "        directory (str): Directory containing the .png files.\n",
    "        dataset_name (str): One of ['VH', 'WMH2017', 'SHIFTS'].\n",
    "\n",
    "    Returns:\n",
    "        int: Number of distinct subject IDs.\n",
    "    \"\"\"\n",
    "    middle_numbers = set()\n",
    "\n",
    "    for filename in os.listdir(directory):\n",
    "        if not filename.endswith(\".png\"):\n",
    "            continue\n",
    "\n",
    "        if dataset_name in ['VH', 'WMH2017'] and filename.startswith(dataset_name + \"_\"):\n",
    "            parts = filename.split('_')\n",
    "            if len(parts) >= 3:\n",
    "                middle_numbers.add(int(parts[1]))\n",
    "\n",
    "        elif dataset_name == 'SHIFTS':\n",
    "            if filename.startswith('train_'):\n",
    "                parts = filename.split('_')\n",
    "                if len(parts) >= 3:\n",
    "                    middle_numbers.add(parts[0]+parts[1])\n",
    "            elif filename.startswith(('dev_in', 'eval_in', 'dev_out')):\n",
    "                parts = filename.split('_')\n",
    "                if len(parts) >= 4:\n",
    "                    middle_numbers.add(parts[0]+parts[1]+parts[2])\n",
    "\n",
    "    sorted_ids = sorted(middle_numbers)\n",
    "    print(f\"{dataset_name}: {len(sorted_ids)} distinct subject IDs\")\n",
    "    print(\"Subject IDs:\", ', '.join(map(str, sorted_ids)))\n",
    "    \n",
    "    # return len(sorted_ids)\n"
   ]
  },
  {
   "cell_type": "code",
   "execution_count": 40,
   "id": "85815b01",
   "metadata": {},
   "outputs": [
    {
     "name": "stdout",
     "output_type": "stream",
     "text": [
      "SHIFTS: 31 distinct subject IDs\n",
      "Subject IDs: devin2, devin4, devin6, devout14, devout18, devout20, devout21, devout22, devout24, devout25, devout8, evalin10, evalin18, evalin19, evalin21, evalin25, evalin30, evalin33, evalin4, evalin5, evalin9, train11, train14, train19, train22, train23, train28, train3, train32, train4, train6\n"
     ]
    }
   ],
   "source": [
    "directory = \"/home/benet/data/lesion2D_VH-SHIFTS-WMH2017/test/flair\"\n",
    "\n",
    "# count_and_list_middle_numbers(directory, 'VH')\n",
    "# count_and_list_middle_numbers(directory, 'WMH2017')\n",
    "count_and_list_middle_numbers(directory, 'SHIFTS')\n",
    "\n",
    "# directory = \"/home/benet/data/lesion2D_VH-SHIFTS-WMH2017/test/mask\"\n",
    "\n",
    "# count_and_list_middle_numbers(directory, 'VH')\n",
    "# count_and_list_middle_numbers(directory, 'WMH2017')\n",
    "# count_and_list_middle_numbers(directory, 'SHIFTS')\n",
    "\n"
   ]
  },
  {
   "cell_type": "code",
   "execution_count": 43,
   "id": "66067065",
   "metadata": {},
   "outputs": [
    {
     "name": "stdout",
     "output_type": "stream",
     "text": [
      "SHIFTS: 31 distinct subject IDs\n",
      "Subject IDs: devin2, devin4, devin6, devout14, devout18, devout20, devout21, devout22, devout24, devout25, devout8, evalin10, evalin18, evalin19, evalin21, evalin25, evalin30, evalin33, evalin4, evalin5, evalin9, train11, train14, train19, train22, train23, train28, train3, train32, train4, train6\n",
      "SHIFTS: 31 distinct subject IDs\n",
      "Subject IDs: devin2, devin4, devin6, devout14, devout18, devout20, devout21, devout22, devout24, devout25, devout8, evalin10, evalin18, evalin19, evalin21, evalin25, evalin30, evalin33, evalin4, evalin5, evalin9, train11, train14, train19, train22, train23, train28, train3, train32, train4, train6\n"
     ]
    }
   ],
   "source": [
    "directory = \"/home/benet/data/lesion2D_VH-SHIFTS-WMH2017_empty_masks/test/flair\"\n",
    "\n",
    "# count_and_list_middle_numbers(directory, 'VH')\n",
    "# count_and_list_middle_numbers(directory, 'WMH2017')\n",
    "count_and_list_middle_numbers(directory, 'SHIFTS')\n",
    "directory = \"/home/benet/data/lesion2D_VH-SHIFTS-WMH2017_empty_masks/test/mask\"\n",
    "count_and_list_middle_numbers(directory, 'SHIFTS')\n"
   ]
  },
  {
   "cell_type": "code",
   "execution_count": 29,
   "id": "7c58eefa",
   "metadata": {},
   "outputs": [
    {
     "name": "stdout",
     "output_type": "stream",
     "text": [
      "VH: 18 distinct subject IDs\n",
      "Subject IDs: 648, 727, 728, 729, 738, 739, 741, 743, 744, 745, 746, 747, 749, 751, 752, 754, 755, 758\n",
      "WMH2017: 18 distinct subject IDs\n",
      "Subject IDs: 2, 11, 17, 21, 35, 37, 41, 53, 62, 65, 68, 100, 104, 112, 114, 126, 132, 137\n",
      "SHIFTS: 22 distinct subject IDs\n",
      "Subject IDs: 1, 3, 4, 5, 7, 8, 9, 11, 12, 13, 15, 16, 17, 18, 21, 22, 23, 24, 27, 28, 32, 33\n"
     ]
    }
   ],
   "source": [
    "directory = \"/home/benet/data/lesion2D_VH-SHIFTS-WMH2017_empty_masks_v1/test/mask\"\n",
    "\n",
    "count_and_list_middle_numbers(directory, 'VH')\n",
    "count_and_list_middle_numbers(directory, 'WMH2017')\n",
    "count_and_list_middle_numbers(directory, 'SHIFTS')"
   ]
  }
 ],
 "metadata": {
  "kernelspec": {
   "display_name": "benetvicorob",
   "language": "python",
   "name": "python3"
  },
  "language_info": {
   "codemirror_mode": {
    "name": "ipython",
    "version": 3
   },
   "file_extension": ".py",
   "mimetype": "text/x-python",
   "name": "python",
   "nbconvert_exporter": "python",
   "pygments_lexer": "ipython3",
   "version": "3.12.9"
  }
 },
 "nbformat": 4,
 "nbformat_minor": 5
}
