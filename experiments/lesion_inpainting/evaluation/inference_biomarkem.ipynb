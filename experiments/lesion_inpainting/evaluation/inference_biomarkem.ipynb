{
 "cells": [
  {
   "cell_type": "markdown",
   "metadata": {},
   "source": [
    "# 🧠 MS Lesion Synthesis Inference Notebook (biomarkem data)"
   ]
  },
  {
   "cell_type": "code",
   "execution_count": 1,
   "metadata": {},
   "outputs": [],
   "source": [
    "import os\n",
    "from pathlib import Path\n",
    "import ants\n",
    "import numpy as np\n",
    "from PIL import Image"
   ]
  },
  {
   "cell_type": "markdown",
   "metadata": {},
   "source": [
    "### Extract the GM/WM masks from all the biomarkem data"
   ]
  },
  {
   "cell_type": "code",
   "execution_count": 3,
   "metadata": {},
   "outputs": [
    {
     "name": "stdout",
     "output_type": "stream",
     "text": [
      "Processing scanner: ISI\n",
      "Processing scanner: TSI\n",
      "Processing scanner: VSI\n"
     ]
    }
   ],
   "source": [
    "# Define base path and scanners\n",
    "base_path = Path(\"/home/benet/data/biomarkem2D\")\n",
    "scanners = [\"ISI\", \"TSI\", \"VSI\"]\n",
    "\n",
    "\n",
    "# Define output path for WM/GM masks\n",
    "output_base = Path(\"./biomarkem/WM_GM_MASKS\")\n",
    "output_base.mkdir(parents=True, exist_ok=True)\n",
    "\n",
    "# Collect image paths and prepare segmentation\n",
    "segmented_images = []\n",
    "\n",
    "for scanner in scanners:\n",
    "    print(f\"Processing scanner: {scanner}\")\n",
    "    scanner_path = base_path / scanner\n",
    "    output_path = output_base / scanner\n",
    "    output_path.mkdir(parents=True, exist_ok=True)\n",
    "\n",
    "    for fname in os.listdir(scanner_path):\n",
    "        if not fname.endswith(\".png\"):\n",
    "            continue\n",
    "\n",
    "        img_path = scanner_path / fname\n",
    "        img_arr = np.array(Image.open(img_path).convert(\"L\")).astype(np.float32)\n",
    "\n",
    "        # Segment using ANTs\n",
    "        img = ants.from_numpy(img_arr)\n",
    "        mask = ants.get_mask(img)\n",
    "        seg = ants.atropos(\n",
    "            a=img,\n",
    "            m='[0.2,1x1]',\n",
    "            c='[2,0]',\n",
    "            i='kmeans[3]',\n",
    "            x=mask,\n",
    "            verbose=0\n",
    "        )\n",
    "\n",
    "        # Classify tissues by intensity\n",
    "        seg_img = seg[\"segmentation\"]\n",
    "        labels = np.unique(seg_img.numpy())\n",
    "        means = [img.numpy()[seg_img.numpy() == l].mean() for l in labels]\n",
    "        sorted_labels = [label for _, label in sorted(zip(means, labels))]\n",
    "\n",
    "        # Combine WM and GM (highest two intensity classes)\n",
    "        wm_gm_mask = np.isin(seg_img.numpy(), sorted_labels[-2:]).astype(np.uint8) * 255\n",
    "\n",
    "        # Save mask\n",
    "        output_file = output_path / fname\n",
    "        Image.fromarray(wm_gm_mask).save(output_file)\n",
    "        segmented_images.append(str(output_file))"
   ]
  },
  {
   "cell_type": "markdown",
   "metadata": {},
   "source": [
    "### Create new lesion masks from lesions masks in the test data and that are in the GM/WM masks"
   ]
  },
  {
   "cell_type": "code",
   "execution_count": null,
   "metadata": {},
   "outputs": [
    {
     "name": "stdout",
     "output_type": "stream",
     "text": [
      "Loading and categorizing lesion bank...\n",
      "Generating synthetic masks per scanner...\n",
      "Processing ISI...\n",
      "Processing TSI...\n",
      "Processing VSI...\n",
      "✅ All synthetic masks generated.\n"
     ]
    }
   ],
   "source": [
    "# def generate_synthetic_mask_for_folder(lesion_dict, wm_mask_folder, output_folder,\n",
    "#                                        num_lesions={'small': 1, 'medium': 1, 'large': 1},\n",
    "#                                        seed=17844):\n",
    "#     wm_mask_folder = Path(wm_mask_folder)\n",
    "#     output_folder = Path(output_folder)\n",
    "#     output_folder.mkdir(parents=True, exist_ok=True)\n",
    "\n",
    "#     for fname in os.listdir(wm_mask_folder):\n",
    "#         if not fname.endswith(\".png\"):\n",
    "#             continue\n",
    "\n",
    "#         wm_mask_path = wm_mask_folder / fname\n",
    "#         wm_mask = np.array(Image.open(wm_mask_path).convert(\"L\"))\n",
    "#         shape = wm_mask.shape\n",
    "\n",
    "#         syn_mask = paste_lesions(shape, lesion_dict, wm_mask, num_lesions, seed=seed)\n",
    "\n",
    "#         output_path = output_folder / fname\n",
    "#         Image.fromarray(syn_mask).save(output_path)\n",
    "\n",
    "# def batch_generate_synthetic_masks(source_mask_dir, wm_base_folder, output_base_folder,\n",
    "#                                    scanners=[\"ISI\", \"TSI\", \"VSI\"],\n",
    "#                                    num_lesions={'small': 1, 'medium': 1, 'large': 1},\n",
    "#                                    seed=17844):\n",
    "#     print(\"Loading and categorizing lesion bank...\")\n",
    "#     lesion_dict = load_and_categorize_lesions(source_mask_dir)\n",
    "\n",
    "#     print(\"Generating synthetic masks per scanner...\")\n",
    "#     for scanner in scanners:\n",
    "#         wm_mask_folder = os.path.join(wm_base_folder, scanner)\n",
    "#         output_folder = os.path.join(output_base_folder, scanner)\n",
    "#         print(f\"Processing {scanner}...\")\n",
    "#         generate_synthetic_mask_for_folder(lesion_dict, wm_mask_folder, output_folder,\n",
    "#                                            num_lesions=num_lesions, seed=seed)\n",
    "\n",
    "#     print(\"✅ All synthetic masks generated.\")\n",
    "\n",
    "# batch_generate_synthetic_masks(\n",
    "#     source_mask_dir=\"/home/benet/data/lesion2D_VH-SHIFTS-WMH2017/test/mask\",\n",
    "#     wm_base_folder=\"./biomarkem/WM_GM_MASKS\",\n",
    "#     output_base_folder=\"./biomarkem/synthetic_masks\",\n",
    "#     num_lesions={'small': 0, 'medium': 0, 'large': 3},\n",
    "#     seed=17844\n",
    "# )\n"
   ]
  },
  {
   "cell_type": "code",
   "execution_count": null,
   "metadata": {},
   "outputs": [],
   "source": [
    "import os\n",
    "import random\n",
    "import numpy as np\n",
    "import cv2\n",
    "from scipy.ndimage import label\n",
    "from pathlib import Path\n",
    "from PIL import Image\n",
    "\n",
    "def extract_lesions(mask):\n",
    "    labeled, n = label(mask)\n",
    "    lesions = []\n",
    "    for i in range(1, n + 1):\n",
    "        lesion = (labeled == i).astype(np.uint8) * 255\n",
    "        area = np.sum(lesion > 0)\n",
    "        lesions.append((lesion, area))\n",
    "    return lesions\n",
    "\n",
    "def categorize_lesions(lesions):\n",
    "    areas = [a for _, a in lesions]\n",
    "    if len(areas) < 3:\n",
    "        return {'small': [], 'medium': [], 'large': []}\n",
    "    small_th = np.percentile(areas, 33)\n",
    "    large_th = np.percentile(areas, 80)\n",
    "    categorized = {'small': [], 'medium': [], 'large': []}\n",
    "    for lesion, area in lesions:\n",
    "        if area <= small_th:\n",
    "            categorized['small'].append(lesion)\n",
    "        elif area <= large_th:\n",
    "            categorized['medium'].append(lesion)\n",
    "        else:\n",
    "            categorized['large'].append(lesion)\n",
    "    return categorized\n",
    "\n",
    "def load_and_categorize_lesions(source_mask_dir):\n",
    "    lesion_bank = []\n",
    "    for fname in os.listdir(source_mask_dir):\n",
    "        if fname.endswith(\".png\"):\n",
    "            mask = np.array(Image.open(os.path.join(source_mask_dir, fname)).convert(\"L\"))\n",
    "            lesion_bank.extend(extract_lesions(mask))\n",
    "    return categorize_lesions(lesion_bank)\n",
    "\n",
    "def transform_lesion(lesion, target_shape):\n",
    "    h, w = lesion.shape\n",
    "    scale = random.uniform(0.8, 1.2)\n",
    "    angle = random.uniform(-20, 20)\n",
    "    lesion_resized = cv2.resize(lesion, None, fx=scale, fy=scale)\n",
    "    M = cv2.getRotationMatrix2D((lesion_resized.shape[1] // 2, lesion_resized.shape[0] // 2), angle, 1)\n",
    "    lesion_rotated = cv2.warpAffine(lesion_resized, M, (lesion_resized.shape[1], lesion_resized.shape[0]))\n",
    "    lh, lw = lesion_rotated.shape\n",
    "    if lh >= target_shape[0] or lw >= target_shape[1]:\n",
    "        return None\n",
    "    return lesion_rotated\n",
    "\n",
    "def paste_lesions(target_shape, lesion_dict, wm_mask, num_lesions, seed=None):\n",
    "    if seed is not None:\n",
    "        random.seed(seed)\n",
    "        np.random.seed(seed)\n",
    "\n",
    "    new_mask = np.zeros(target_shape, dtype=np.uint8)\n",
    "\n",
    "    for cat in ['small', 'medium', 'large']:\n",
    "        count = num_lesions.get(cat, 0)\n",
    "        if not lesion_dict[cat]:\n",
    "            print(f\"No lesions available for category {cat}\")\n",
    "            continue\n",
    "\n",
    "        placed = 0\n",
    "        tries = 0\n",
    "        while placed < count and tries < 100:\n",
    "            lesion = random.choice(lesion_dict[cat])\n",
    "            lesion_transformed = transform_lesion(lesion, target_shape)\n",
    "            if lesion_transformed is None:\n",
    "                tries += 1\n",
    "                continue\n",
    "\n",
    "            lh, lw = lesion_transformed.shape\n",
    "            x_offset = random.randint(0, target_shape[0] - lh)\n",
    "            y_offset = random.randint(0, target_shape[1] - lw)\n",
    "\n",
    "            lesion_bin = (lesion_transformed > 0).astype(np.uint8)\n",
    "            region = wm_mask[x_offset:x_offset+lh, y_offset:y_offset+lw]\n",
    "            region_bin = (region > 0).astype(np.uint8)\n",
    "\n",
    "            if not np.all(region_bin[lesion_bin == 1] == 1):\n",
    "                tries += 1\n",
    "                continue\n",
    "\n",
    "            new_mask[x_offset:x_offset+lh, y_offset:y_offset+lw] = np.maximum(\n",
    "                new_mask[x_offset:x_offset+lh, y_offset:y_offset+lw], lesion_bin * 255)\n",
    "            placed += 1\n",
    "\n",
    "    return (new_mask > 0).astype(np.uint8) * 255"
   ]
  },
  {
   "cell_type": "code",
   "execution_count": 26,
   "metadata": {},
   "outputs": [],
   "source": [
    "def generate_synthetic_mask_for_suffixes(lesion_dict, wm_base_folder, output_base_folder,\n",
    "                                         scanners=[\"ISI\", \"TSI\", \"VSI\"],\n",
    "                                         num_lesions={'small': 1, 'medium': 1, 'large': 1},\n",
    "                                         seed=17844):\n",
    "    wm_base_folder = Path(wm_base_folder)\n",
    "    output_base_folder = Path(output_base_folder)\n",
    "    output_base_folder.mkdir(parents=True, exist_ok=True)\n",
    "\n",
    "    # Collect common suffixes\n",
    "    suffixes = set()\n",
    "    for scanner in scanners:\n",
    "        for fname in os.listdir(wm_base_folder / scanner):\n",
    "            if fname.endswith(\".png\") and fname.startswith(scanner):\n",
    "                suffixes.add(fname[len(scanner):])  # strip scanner prefix\n",
    "\n",
    "    for suffix in sorted(suffixes):\n",
    "        print(f\"Generating synthetic masks for suffix: {suffix}\")\n",
    "        wm_masks = []\n",
    "        shape = None\n",
    "        for scanner in scanners:\n",
    "            path = wm_base_folder / scanner / f\"{scanner}{suffix}\"\n",
    "            if not path.exists():\n",
    "                print(f\"Missing: {path}\")\n",
    "                break\n",
    "            wm = np.array(Image.open(path).convert(\"L\"))\n",
    "            wm_masks.append(wm)\n",
    "            shape = wm.shape\n",
    "        else:\n",
    "            # Try generating a mask that fits in all WM masks\n",
    "            max_tries = 100\n",
    "            for _ in range(max_tries):\n",
    "                syn_mask = paste_lesions(shape, lesion_dict, wm_masks[0], num_lesions, seed)\n",
    "                if all(np.all((syn_mask > 0) <= (wm > 0)) for wm in wm_masks[1:]):\n",
    "                    for scanner in scanners:\n",
    "                        out_path = output_base_folder / scanner\n",
    "                        out_path.mkdir(parents=True, exist_ok=True)\n",
    "                        Image.fromarray(syn_mask).save(out_path / f\"{scanner}{suffix}\")\n",
    "                    break\n",
    "            else:\n",
    "                print(f\"❌ Could not generate valid mask for suffix {suffix}\")\n",
    "\n",
    "def batch_generate_unified_synthetic_masks(source_mask_dir, wm_base_folder, output_base_folder,\n",
    "                                           scanners=[\"ISI\", \"TSI\", \"VSI\"],\n",
    "                                           num_lesions={'small': 1, 'medium': 1, 'large': 1},\n",
    "                                           seed=17844):\n",
    "    print(\"Loading and categorizing lesion bank...\")\n",
    "    lesion_dict = load_and_categorize_lesions(source_mask_dir)\n",
    "\n",
    "    print(\"Generating unified synthetic masks per suffix...\")\n",
    "    generate_synthetic_mask_for_suffixes(lesion_dict, wm_base_folder, output_base_folder,\n",
    "                                         scanners=scanners, num_lesions=num_lesions, seed=seed)\n",
    "    print(\"✅ Unified synthetic masks generated.\")\n"
   ]
  },
  {
   "cell_type": "code",
   "execution_count": 30,
   "metadata": {},
   "outputs": [
    {
     "name": "stdout",
     "output_type": "stream",
     "text": [
      "Loading and categorizing lesion bank...\n",
      "Generating unified synthetic masks per suffix...\n",
      "Generating synthetic masks for suffix: 01_0_0.png\n",
      "❌ Could not generate valid mask for suffix 01_0_0.png\n",
      "Generating synthetic masks for suffix: 01_0_1.png\n",
      "Generating synthetic masks for suffix: 01_0_2.png\n",
      "❌ Could not generate valid mask for suffix 01_0_2.png\n",
      "Generating synthetic masks for suffix: 01_0_3.png\n",
      "❌ Could not generate valid mask for suffix 01_0_3.png\n",
      "Generating synthetic masks for suffix: 01_0_4.png\n",
      "❌ Could not generate valid mask for suffix 01_0_4.png\n",
      "Generating synthetic masks for suffix: 02_0_0.png\n",
      "❌ Could not generate valid mask for suffix 02_0_0.png\n",
      "Generating synthetic masks for suffix: 02_0_1.png\n",
      "❌ Could not generate valid mask for suffix 02_0_1.png\n",
      "Generating synthetic masks for suffix: 02_0_2.png\n",
      "Generating synthetic masks for suffix: 02_0_3.png\n",
      "❌ Could not generate valid mask for suffix 02_0_3.png\n",
      "Generating synthetic masks for suffix: 02_0_4.png\n",
      "❌ Could not generate valid mask for suffix 02_0_4.png\n",
      "Generating synthetic masks for suffix: 03_0_0.png\n",
      "❌ Could not generate valid mask for suffix 03_0_0.png\n",
      "Generating synthetic masks for suffix: 03_0_1.png\n",
      "❌ Could not generate valid mask for suffix 03_0_1.png\n",
      "Generating synthetic masks for suffix: 03_0_2.png\n",
      "❌ Could not generate valid mask for suffix 03_0_2.png\n",
      "Generating synthetic masks for suffix: 03_0_3.png\n",
      "❌ Could not generate valid mask for suffix 03_0_3.png\n",
      "Generating synthetic masks for suffix: 03_0_4.png\n",
      "❌ Could not generate valid mask for suffix 03_0_4.png\n",
      "Generating synthetic masks for suffix: 04_0_0.png\n",
      "❌ Could not generate valid mask for suffix 04_0_0.png\n",
      "Generating synthetic masks for suffix: 04_0_1.png\n",
      "❌ Could not generate valid mask for suffix 04_0_1.png\n",
      "Generating synthetic masks for suffix: 04_0_2.png\n",
      "❌ Could not generate valid mask for suffix 04_0_2.png\n",
      "Generating synthetic masks for suffix: 04_0_3.png\n",
      "❌ Could not generate valid mask for suffix 04_0_3.png\n",
      "Generating synthetic masks for suffix: 04_0_4.png\n",
      "Generating synthetic masks for suffix: 05_0_0.png\n",
      "❌ Could not generate valid mask for suffix 05_0_0.png\n",
      "Generating synthetic masks for suffix: 05_0_1.png\n",
      "❌ Could not generate valid mask for suffix 05_0_1.png\n",
      "Generating synthetic masks for suffix: 05_0_2.png\n",
      "Generating synthetic masks for suffix: 05_0_3.png\n",
      "Generating synthetic masks for suffix: 05_0_4.png\n",
      "Generating synthetic masks for suffix: 06_0_0.png\n",
      "Generating synthetic masks for suffix: 06_0_1.png\n",
      "Generating synthetic masks for suffix: 06_0_2.png\n",
      "❌ Could not generate valid mask for suffix 06_0_2.png\n",
      "Generating synthetic masks for suffix: 06_0_3.png\n",
      "❌ Could not generate valid mask for suffix 06_0_3.png\n",
      "Generating synthetic masks for suffix: 06_0_4.png\n",
      "❌ Could not generate valid mask for suffix 06_0_4.png\n",
      "Generating synthetic masks for suffix: 07_0_0.png\n",
      "❌ Could not generate valid mask for suffix 07_0_0.png\n",
      "Generating synthetic masks for suffix: 07_0_1.png\n",
      "❌ Could not generate valid mask for suffix 07_0_1.png\n",
      "Generating synthetic masks for suffix: 07_0_2.png\n",
      "Generating synthetic masks for suffix: 07_0_3.png\n",
      "❌ Could not generate valid mask for suffix 07_0_3.png\n",
      "Generating synthetic masks for suffix: 07_0_4.png\n",
      "❌ Could not generate valid mask for suffix 07_0_4.png\n",
      "Generating synthetic masks for suffix: 08_0_0.png\n",
      "❌ Could not generate valid mask for suffix 08_0_0.png\n",
      "Generating synthetic masks for suffix: 08_0_1.png\n",
      "❌ Could not generate valid mask for suffix 08_0_1.png\n",
      "Generating synthetic masks for suffix: 08_0_2.png\n",
      "Generating synthetic masks for suffix: 08_0_3.png\n",
      "Generating synthetic masks for suffix: 08_0_4.png\n",
      "❌ Could not generate valid mask for suffix 08_0_4.png\n",
      "Generating synthetic masks for suffix: 09_0_0.png\n",
      "❌ Could not generate valid mask for suffix 09_0_0.png\n",
      "Generating synthetic masks for suffix: 09_0_1.png\n",
      "❌ Could not generate valid mask for suffix 09_0_1.png\n",
      "Generating synthetic masks for suffix: 09_0_2.png\n",
      "❌ Could not generate valid mask for suffix 09_0_2.png\n",
      "Generating synthetic masks for suffix: 09_0_3.png\n",
      "❌ Could not generate valid mask for suffix 09_0_3.png\n",
      "Generating synthetic masks for suffix: 09_0_4.png\n",
      "❌ Could not generate valid mask for suffix 09_0_4.png\n",
      "Generating synthetic masks for suffix: 10_0_0.png\n",
      "❌ Could not generate valid mask for suffix 10_0_0.png\n",
      "Generating synthetic masks for suffix: 10_0_1.png\n",
      "❌ Could not generate valid mask for suffix 10_0_1.png\n",
      "Generating synthetic masks for suffix: 10_0_2.png\n",
      "❌ Could not generate valid mask for suffix 10_0_2.png\n",
      "Generating synthetic masks for suffix: 10_0_3.png\n",
      "❌ Could not generate valid mask for suffix 10_0_3.png\n",
      "Generating synthetic masks for suffix: 10_0_4.png\n",
      "Generating synthetic masks for suffix: 11_0_0.png\n",
      "Generating synthetic masks for suffix: 11_0_1.png\n",
      "❌ Could not generate valid mask for suffix 11_0_1.png\n",
      "Generating synthetic masks for suffix: 11_0_2.png\n",
      "Generating synthetic masks for suffix: 11_0_3.png\n",
      "❌ Could not generate valid mask for suffix 11_0_3.png\n",
      "Generating synthetic masks for suffix: 11_0_4.png\n",
      "❌ Could not generate valid mask for suffix 11_0_4.png\n",
      "Generating synthetic masks for suffix: 12_0_0.png\n",
      "❌ Could not generate valid mask for suffix 12_0_0.png\n",
      "Generating synthetic masks for suffix: 12_0_1.png\n",
      "❌ Could not generate valid mask for suffix 12_0_1.png\n",
      "Generating synthetic masks for suffix: 12_0_2.png\n",
      "❌ Could not generate valid mask for suffix 12_0_2.png\n",
      "Generating synthetic masks for suffix: 12_0_3.png\n",
      "❌ Could not generate valid mask for suffix 12_0_3.png\n",
      "Generating synthetic masks for suffix: 12_0_4.png\n",
      "❌ Could not generate valid mask for suffix 12_0_4.png\n",
      "Generating synthetic masks for suffix: 13_0_0.png\n",
      "❌ Could not generate valid mask for suffix 13_0_0.png\n",
      "Generating synthetic masks for suffix: 13_0_1.png\n",
      "❌ Could not generate valid mask for suffix 13_0_1.png\n",
      "Generating synthetic masks for suffix: 13_0_2.png\n",
      "❌ Could not generate valid mask for suffix 13_0_2.png\n",
      "Generating synthetic masks for suffix: 13_0_3.png\n",
      "❌ Could not generate valid mask for suffix 13_0_3.png\n",
      "Generating synthetic masks for suffix: 13_0_4.png\n",
      "❌ Could not generate valid mask for suffix 13_0_4.png\n",
      "Generating synthetic masks for suffix: 14_0_0.png\n",
      "❌ Could not generate valid mask for suffix 14_0_0.png\n",
      "Generating synthetic masks for suffix: 14_0_1.png\n",
      "Generating synthetic masks for suffix: 14_0_2.png\n",
      "Generating synthetic masks for suffix: 14_0_3.png\n",
      "❌ Could not generate valid mask for suffix 14_0_3.png\n",
      "Generating synthetic masks for suffix: 14_0_4.png\n",
      "❌ Could not generate valid mask for suffix 14_0_4.png\n",
      "Generating synthetic masks for suffix: 15_0_0.png\n",
      "❌ Could not generate valid mask for suffix 15_0_0.png\n",
      "Generating synthetic masks for suffix: 15_0_1.png\n",
      "❌ Could not generate valid mask for suffix 15_0_1.png\n",
      "Generating synthetic masks for suffix: 15_0_2.png\n",
      "❌ Could not generate valid mask for suffix 15_0_2.png\n",
      "Generating synthetic masks for suffix: 15_0_3.png\n",
      "❌ Could not generate valid mask for suffix 15_0_3.png\n",
      "Generating synthetic masks for suffix: 15_0_4.png\n",
      "❌ Could not generate valid mask for suffix 15_0_4.png\n",
      "✅ Unified synthetic masks generated.\n"
     ]
    }
   ],
   "source": [
    "batch_generate_unified_synthetic_masks(\n",
    "    source_mask_dir=\"/home/benet/data/lesion2D_VH-SHIFTS-WMH2017/test/mask\",\n",
    "    wm_base_folder=\"./biomarkem/WM_GM_MASKS\",\n",
    "    output_base_folder=\"./biomarkem/synthetic_masks_unified\",\n",
    "    num_lesions={'small': 0, 'medium': 0, 'large': 3},\n",
    "    seed=17844\n",
    ")\n"
   ]
  },
  {
   "cell_type": "markdown",
   "metadata": {},
   "source": [
    "### Generate lesions"
   ]
  },
  {
   "cell_type": "code",
   "execution_count": 42,
   "metadata": {},
   "outputs": [],
   "source": [
    "from diffusers import StableDiffusionInpaintPipeline\n",
    "from torchvision import transforms\n",
    "from PIL import Image\n",
    "import torch\n",
    "import os\n",
    "from pathlib import Path\n",
    "from tqdm import tqdm\n",
    "\n",
    "def load_image(path, size=512):\n",
    "    image = Image.open(path).convert(\"RGB\")\n",
    "    image = transforms.Compose([\n",
    "        transforms.Resize(size),\n",
    "        transforms.CenterCrop(size),\n",
    "    ])(image)\n",
    "    return image\n",
    "\n",
    "def generate_guidance_variants_by_scanner(\n",
    "    model_id,\n",
    "    flair_root=\"/home/benet/data/biomarkem2D\",\n",
    "    mask_root=\"./biomarkem/synthetic_masks\",\n",
    "    output_root=\"./biomarkem/generated_inpaintings\",\n",
    "    guidance_values=[0.0, 1.0, 2.0, 3.0, 5.0, 7.5, 10.0],\n",
    "    image_size=512,\n",
    "    seed=17844,\n",
    "    device=\"cuda\"\n",
    "):\n",
    "    # Load the inpainting model\n",
    "    pipe = StableDiffusionInpaintPipeline.from_pretrained(model_id, torch_dtype=torch.float16)\n",
    "    pipe.to(device)\n",
    "    pipe.set_progress_bar_config(disable=True)\n",
    "\n",
    "    generator = torch.manual_seed(seed)\n",
    "    flair_root = Path(flair_root)\n",
    "    mask_root = Path(mask_root)\n",
    "    output_root = Path(output_root)\n",
    "    output_root.mkdir(parents=True, exist_ok=True)\n",
    "\n",
    "    for scanner in [\"VSI\", \"TSI\", \"ISI\"]:\n",
    "        flair_folder = flair_root / scanner\n",
    "        mask_folder = mask_root / scanner\n",
    "        output_scanner = output_root / scanner\n",
    "        output_scanner.mkdir(parents=True, exist_ok=True)\n",
    "\n",
    "        print(f\"🧠 Processing scanner: {scanner}\")\n",
    "        for fname in tqdm(sorted(os.listdir(flair_folder)), desc=f\"{scanner}\"):\n",
    "            if not fname.endswith(\".png\"):\n",
    "                continue\n",
    "\n",
    "            flair_path = flair_folder / fname\n",
    "            mask_path = mask_folder / fname\n",
    "            if not mask_path.exists():\n",
    "                print(f\"⚠️  Skipping {fname}: mask not found at {mask_path}\")\n",
    "                continue\n",
    "\n",
    "            image = load_image(flair_path, image_size)\n",
    "            mask = load_image(mask_path, image_size)\n",
    "\n",
    "            image_out_dir = output_scanner / fname.replace(\".png\", \"\")\n",
    "            image_out_dir.mkdir(parents=True, exist_ok=True)\n",
    "\n",
    "            for g in guidance_values:\n",
    "                result = pipe(\n",
    "                    prompt=\"SHIFTS multiple sclerosis lesion in a FLAIR MRI\",\n",
    "                    image=image,\n",
    "                    mask_image=mask,\n",
    "                    guidance_scale=g,\n",
    "                    num_inference_steps=100, #25,\n",
    "                    generator=generator\n",
    "                ).images[0]\n",
    "\n",
    "                out_path = image_out_dir / f\"g{g}.png\"\n",
    "                result.save(out_path)\n",
    "\n",
    "    print(\"✅ All guidance inpaintings generated.\")"
   ]
  },
  {
   "cell_type": "code",
   "execution_count": 43,
   "metadata": {},
   "outputs": [
    {
     "data": {
      "application/vnd.jupyter.widget-view+json": {
       "model_id": "b27ebd798a074508bead52ce1a18d0bc",
       "version_major": 2,
       "version_minor": 0
      },
      "text/plain": [
       "Loading pipeline components...:   0%|          | 0/6 [00:00<?, ?it/s]"
      ]
     },
     "metadata": {},
     "output_type": "display_data"
    },
    {
     "name": "stderr",
     "output_type": "stream",
     "text": [
      "You have disabled the safety checker for <class 'diffusers.pipelines.stable_diffusion.pipeline_stable_diffusion_inpaint.StableDiffusionInpaintPipeline'> by passing `safety_checker=None`. Ensure that you abide to the conditions of the Stable Diffusion license and do not expose unfiltered results in services or applications open to the public. Both the diffusers team and Hugging Face strongly recommend to keep the safety filter enabled in all public facing circumstances, disabling it only for use-cases that involve analyzing network behavior or auditing its results. For more information, please have a look at https://github.com/huggingface/diffusers/pull/254 .\n"
     ]
    },
    {
     "name": "stdout",
     "output_type": "stream",
     "text": [
      "🧠 Processing scanner: VSI\n"
     ]
    },
    {
     "name": "stderr",
     "output_type": "stream",
     "text": [
      "VSI:   0%|          | 0/75 [00:00<?, ?it/s]"
     ]
    },
    {
     "name": "stdout",
     "output_type": "stream",
     "text": [
      "⚠️  Skipping VSI01_0_0.png: mask not found at biomarkem/synthetic_masks_unified/VSI/VSI01_0_0.png\n"
     ]
    },
    {
     "name": "stderr",
     "output_type": "stream",
     "text": [
      "VSI:   3%|▎         | 2/75 [00:39<24:06, 19.82s/it]"
     ]
    },
    {
     "name": "stdout",
     "output_type": "stream",
     "text": [
      "⚠️  Skipping VSI01_0_2.png: mask not found at biomarkem/synthetic_masks_unified/VSI/VSI01_0_2.png\n",
      "⚠️  Skipping VSI01_0_3.png: mask not found at biomarkem/synthetic_masks_unified/VSI/VSI01_0_3.png\n",
      "⚠️  Skipping VSI01_0_4.png: mask not found at biomarkem/synthetic_masks_unified/VSI/VSI01_0_4.png\n",
      "⚠️  Skipping VSI02_0_0.png: mask not found at biomarkem/synthetic_masks_unified/VSI/VSI02_0_0.png\n",
      "⚠️  Skipping VSI02_0_1.png: mask not found at biomarkem/synthetic_masks_unified/VSI/VSI02_0_1.png\n"
     ]
    },
    {
     "name": "stderr",
     "output_type": "stream",
     "text": [
      "VSI:  11%|█         | 8/75 [01:18<09:59,  8.95s/it]"
     ]
    },
    {
     "name": "stdout",
     "output_type": "stream",
     "text": [
      "⚠️  Skipping VSI02_0_3.png: mask not found at biomarkem/synthetic_masks_unified/VSI/VSI02_0_3.png\n",
      "⚠️  Skipping VSI02_0_4.png: mask not found at biomarkem/synthetic_masks_unified/VSI/VSI02_0_4.png\n",
      "⚠️  Skipping VSI03_0_0.png: mask not found at biomarkem/synthetic_masks_unified/VSI/VSI03_0_0.png\n",
      "⚠️  Skipping VSI03_0_1.png: mask not found at biomarkem/synthetic_masks_unified/VSI/VSI03_0_1.png\n",
      "⚠️  Skipping VSI03_0_2.png: mask not found at biomarkem/synthetic_masks_unified/VSI/VSI03_0_2.png\n",
      "⚠️  Skipping VSI03_0_3.png: mask not found at biomarkem/synthetic_masks_unified/VSI/VSI03_0_3.png\n",
      "⚠️  Skipping VSI03_0_4.png: mask not found at biomarkem/synthetic_masks_unified/VSI/VSI03_0_4.png\n",
      "⚠️  Skipping VSI04_0_0.png: mask not found at biomarkem/synthetic_masks_unified/VSI/VSI04_0_0.png\n",
      "⚠️  Skipping VSI04_0_1.png: mask not found at biomarkem/synthetic_masks_unified/VSI/VSI04_0_1.png\n",
      "⚠️  Skipping VSI04_0_2.png: mask not found at biomarkem/synthetic_masks_unified/VSI/VSI04_0_2.png\n",
      "⚠️  Skipping VSI04_0_3.png: mask not found at biomarkem/synthetic_masks_unified/VSI/VSI04_0_3.png\n"
     ]
    },
    {
     "name": "stderr",
     "output_type": "stream",
     "text": [
      "VSI:  27%|██▋       | 20/75 [01:56<04:32,  4.95s/it]"
     ]
    },
    {
     "name": "stdout",
     "output_type": "stream",
     "text": [
      "⚠️  Skipping VSI05_0_0.png: mask not found at biomarkem/synthetic_masks_unified/VSI/VSI05_0_0.png\n",
      "⚠️  Skipping VSI05_0_1.png: mask not found at biomarkem/synthetic_masks_unified/VSI/VSI05_0_1.png\n"
     ]
    },
    {
     "name": "stderr",
     "output_type": "stream",
     "text": [
      "VSI:  36%|███▌      | 27/75 [05:08<15:49, 19.77s/it]"
     ]
    },
    {
     "name": "stdout",
     "output_type": "stream",
     "text": [
      "⚠️  Skipping VSI06_0_2.png: mask not found at biomarkem/synthetic_masks_unified/VSI/VSI06_0_2.png\n",
      "⚠️  Skipping VSI06_0_3.png: mask not found at biomarkem/synthetic_masks_unified/VSI/VSI06_0_3.png\n",
      "⚠️  Skipping VSI06_0_4.png: mask not found at biomarkem/synthetic_masks_unified/VSI/VSI06_0_4.png\n",
      "⚠️  Skipping VSI07_0_0.png: mask not found at biomarkem/synthetic_masks_unified/VSI/VSI07_0_0.png\n",
      "⚠️  Skipping VSI07_0_1.png: mask not found at biomarkem/synthetic_masks_unified/VSI/VSI07_0_1.png\n"
     ]
    },
    {
     "name": "stderr",
     "output_type": "stream",
     "text": [
      "VSI:  44%|████▍     | 33/75 [05:46<08:21, 11.94s/it]"
     ]
    },
    {
     "name": "stdout",
     "output_type": "stream",
     "text": [
      "⚠️  Skipping VSI07_0_3.png: mask not found at biomarkem/synthetic_masks_unified/VSI/VSI07_0_3.png\n",
      "⚠️  Skipping VSI07_0_4.png: mask not found at biomarkem/synthetic_masks_unified/VSI/VSI07_0_4.png\n",
      "⚠️  Skipping VSI08_0_0.png: mask not found at biomarkem/synthetic_masks_unified/VSI/VSI08_0_0.png\n",
      "⚠️  Skipping VSI08_0_1.png: mask not found at biomarkem/synthetic_masks_unified/VSI/VSI08_0_1.png\n"
     ]
    },
    {
     "name": "stderr",
     "output_type": "stream",
     "text": [
      "VSI:  52%|█████▏    | 39/75 [07:03<07:52, 13.13s/it]"
     ]
    },
    {
     "name": "stdout",
     "output_type": "stream",
     "text": [
      "⚠️  Skipping VSI08_0_4.png: mask not found at biomarkem/synthetic_masks_unified/VSI/VSI08_0_4.png\n",
      "⚠️  Skipping VSI09_0_0.png: mask not found at biomarkem/synthetic_masks_unified/VSI/VSI09_0_0.png\n",
      "⚠️  Skipping VSI09_0_1.png: mask not found at biomarkem/synthetic_masks_unified/VSI/VSI09_0_1.png\n",
      "⚠️  Skipping VSI09_0_2.png: mask not found at biomarkem/synthetic_masks_unified/VSI/VSI09_0_2.png\n",
      "⚠️  Skipping VSI09_0_3.png: mask not found at biomarkem/synthetic_masks_unified/VSI/VSI09_0_3.png\n",
      "⚠️  Skipping VSI09_0_4.png: mask not found at biomarkem/synthetic_masks_unified/VSI/VSI09_0_4.png\n",
      "⚠️  Skipping VSI10_0_0.png: mask not found at biomarkem/synthetic_masks_unified/VSI/VSI10_0_0.png\n",
      "⚠️  Skipping VSI10_0_1.png: mask not found at biomarkem/synthetic_masks_unified/VSI/VSI10_0_1.png\n",
      "⚠️  Skipping VSI10_0_2.png: mask not found at biomarkem/synthetic_masks_unified/VSI/VSI10_0_2.png\n",
      "⚠️  Skipping VSI10_0_3.png: mask not found at biomarkem/synthetic_masks_unified/VSI/VSI10_0_3.png\n"
     ]
    },
    {
     "name": "stderr",
     "output_type": "stream",
     "text": [
      "VSI:  68%|██████▊   | 51/75 [08:20<03:47,  9.49s/it]"
     ]
    },
    {
     "name": "stdout",
     "output_type": "stream",
     "text": [
      "⚠️  Skipping VSI11_0_1.png: mask not found at biomarkem/synthetic_masks_unified/VSI/VSI11_0_1.png\n"
     ]
    },
    {
     "name": "stderr",
     "output_type": "stream",
     "text": [
      "VSI:  71%|███████   | 53/75 [08:58<04:06, 11.20s/it]"
     ]
    },
    {
     "name": "stdout",
     "output_type": "stream",
     "text": [
      "⚠️  Skipping VSI11_0_3.png: mask not found at biomarkem/synthetic_masks_unified/VSI/VSI11_0_3.png\n",
      "⚠️  Skipping VSI11_0_4.png: mask not found at biomarkem/synthetic_masks_unified/VSI/VSI11_0_4.png\n",
      "⚠️  Skipping VSI12_0_0.png: mask not found at biomarkem/synthetic_masks_unified/VSI/VSI12_0_0.png\n",
      "⚠️  Skipping VSI12_0_1.png: mask not found at biomarkem/synthetic_masks_unified/VSI/VSI12_0_1.png\n",
      "⚠️  Skipping VSI12_0_2.png: mask not found at biomarkem/synthetic_masks_unified/VSI/VSI12_0_2.png\n",
      "⚠️  Skipping VSI12_0_3.png: mask not found at biomarkem/synthetic_masks_unified/VSI/VSI12_0_3.png\n",
      "⚠️  Skipping VSI12_0_4.png: mask not found at biomarkem/synthetic_masks_unified/VSI/VSI12_0_4.png\n",
      "⚠️  Skipping VSI13_0_0.png: mask not found at biomarkem/synthetic_masks_unified/VSI/VSI13_0_0.png\n",
      "⚠️  Skipping VSI13_0_1.png: mask not found at biomarkem/synthetic_masks_unified/VSI/VSI13_0_1.png\n",
      "⚠️  Skipping VSI13_0_2.png: mask not found at biomarkem/synthetic_masks_unified/VSI/VSI13_0_2.png\n",
      "⚠️  Skipping VSI13_0_3.png: mask not found at biomarkem/synthetic_masks_unified/VSI/VSI13_0_3.png\n",
      "⚠️  Skipping VSI13_0_4.png: mask not found at biomarkem/synthetic_masks_unified/VSI/VSI13_0_4.png\n",
      "⚠️  Skipping VSI14_0_0.png: mask not found at biomarkem/synthetic_masks_unified/VSI/VSI14_0_0.png\n"
     ]
    },
    {
     "name": "stderr",
     "output_type": "stream",
     "text": [
      "VSI: 100%|██████████| 75/75 [10:17<00:00,  8.23s/it]\n"
     ]
    },
    {
     "name": "stdout",
     "output_type": "stream",
     "text": [
      "⚠️  Skipping VSI14_0_3.png: mask not found at biomarkem/synthetic_masks_unified/VSI/VSI14_0_3.png\n",
      "⚠️  Skipping VSI14_0_4.png: mask not found at biomarkem/synthetic_masks_unified/VSI/VSI14_0_4.png\n",
      "⚠️  Skipping VSI15_0_0.png: mask not found at biomarkem/synthetic_masks_unified/VSI/VSI15_0_0.png\n",
      "⚠️  Skipping VSI15_0_1.png: mask not found at biomarkem/synthetic_masks_unified/VSI/VSI15_0_1.png\n",
      "⚠️  Skipping VSI15_0_2.png: mask not found at biomarkem/synthetic_masks_unified/VSI/VSI15_0_2.png\n",
      "⚠️  Skipping VSI15_0_3.png: mask not found at biomarkem/synthetic_masks_unified/VSI/VSI15_0_3.png\n",
      "⚠️  Skipping VSI15_0_4.png: mask not found at biomarkem/synthetic_masks_unified/VSI/VSI15_0_4.png\n",
      "🧠 Processing scanner: TSI\n"
     ]
    },
    {
     "name": "stderr",
     "output_type": "stream",
     "text": [
      "TSI:   0%|          | 0/75 [00:00<?, ?it/s]"
     ]
    },
    {
     "name": "stdout",
     "output_type": "stream",
     "text": [
      "⚠️  Skipping TSI01_0_0.png: mask not found at biomarkem/synthetic_masks_unified/TSI/TSI01_0_0.png\n"
     ]
    },
    {
     "name": "stderr",
     "output_type": "stream",
     "text": [
      "TSI:   3%|▎         | 2/75 [00:38<23:16, 19.13s/it]"
     ]
    },
    {
     "name": "stdout",
     "output_type": "stream",
     "text": [
      "⚠️  Skipping TSI01_0_2.png: mask not found at biomarkem/synthetic_masks_unified/TSI/TSI01_0_2.png\n",
      "⚠️  Skipping TSI01_0_3.png: mask not found at biomarkem/synthetic_masks_unified/TSI/TSI01_0_3.png\n",
      "⚠️  Skipping TSI01_0_4.png: mask not found at biomarkem/synthetic_masks_unified/TSI/TSI01_0_4.png\n",
      "⚠️  Skipping TSI02_0_0.png: mask not found at biomarkem/synthetic_masks_unified/TSI/TSI02_0_0.png\n",
      "⚠️  Skipping TSI02_0_1.png: mask not found at biomarkem/synthetic_masks_unified/TSI/TSI02_0_1.png\n"
     ]
    },
    {
     "name": "stderr",
     "output_type": "stream",
     "text": [
      "TSI:  11%|█         | 8/75 [01:16<09:47,  8.77s/it]"
     ]
    },
    {
     "name": "stdout",
     "output_type": "stream",
     "text": [
      "⚠️  Skipping TSI02_0_3.png: mask not found at biomarkem/synthetic_masks_unified/TSI/TSI02_0_3.png\n",
      "⚠️  Skipping TSI02_0_4.png: mask not found at biomarkem/synthetic_masks_unified/TSI/TSI02_0_4.png\n",
      "⚠️  Skipping TSI03_0_0.png: mask not found at biomarkem/synthetic_masks_unified/TSI/TSI03_0_0.png\n",
      "⚠️  Skipping TSI03_0_1.png: mask not found at biomarkem/synthetic_masks_unified/TSI/TSI03_0_1.png\n",
      "⚠️  Skipping TSI03_0_2.png: mask not found at biomarkem/synthetic_masks_unified/TSI/TSI03_0_2.png\n",
      "⚠️  Skipping TSI03_0_3.png: mask not found at biomarkem/synthetic_masks_unified/TSI/TSI03_0_3.png\n",
      "⚠️  Skipping TSI03_0_4.png: mask not found at biomarkem/synthetic_masks_unified/TSI/TSI03_0_4.png\n",
      "⚠️  Skipping TSI04_0_0.png: mask not found at biomarkem/synthetic_masks_unified/TSI/TSI04_0_0.png\n",
      "⚠️  Skipping TSI04_0_1.png: mask not found at biomarkem/synthetic_masks_unified/TSI/TSI04_0_1.png\n",
      "⚠️  Skipping TSI04_0_2.png: mask not found at biomarkem/synthetic_masks_unified/TSI/TSI04_0_2.png\n",
      "⚠️  Skipping TSI04_0_3.png: mask not found at biomarkem/synthetic_masks_unified/TSI/TSI04_0_3.png\n"
     ]
    },
    {
     "name": "stderr",
     "output_type": "stream",
     "text": [
      "TSI:  27%|██▋       | 20/75 [01:54<04:28,  4.88s/it]"
     ]
    },
    {
     "name": "stdout",
     "output_type": "stream",
     "text": [
      "⚠️  Skipping TSI05_0_0.png: mask not found at biomarkem/synthetic_masks_unified/TSI/TSI05_0_0.png\n",
      "⚠️  Skipping TSI05_0_1.png: mask not found at biomarkem/synthetic_masks_unified/TSI/TSI05_0_1.png\n"
     ]
    },
    {
     "name": "stderr",
     "output_type": "stream",
     "text": [
      "TSI:  36%|███▌      | 27/75 [05:08<15:49, 19.79s/it]"
     ]
    },
    {
     "name": "stdout",
     "output_type": "stream",
     "text": [
      "⚠️  Skipping TSI06_0_2.png: mask not found at biomarkem/synthetic_masks_unified/TSI/TSI06_0_2.png\n",
      "⚠️  Skipping TSI06_0_3.png: mask not found at biomarkem/synthetic_masks_unified/TSI/TSI06_0_3.png\n",
      "⚠️  Skipping TSI06_0_4.png: mask not found at biomarkem/synthetic_masks_unified/TSI/TSI06_0_4.png\n",
      "⚠️  Skipping TSI07_0_0.png: mask not found at biomarkem/synthetic_masks_unified/TSI/TSI07_0_0.png\n",
      "⚠️  Skipping TSI07_0_1.png: mask not found at biomarkem/synthetic_masks_unified/TSI/TSI07_0_1.png\n"
     ]
    },
    {
     "name": "stderr",
     "output_type": "stream",
     "text": [
      "TSI:  44%|████▍     | 33/75 [05:46<08:21, 11.94s/it]"
     ]
    },
    {
     "name": "stdout",
     "output_type": "stream",
     "text": [
      "⚠️  Skipping TSI07_0_3.png: mask not found at biomarkem/synthetic_masks_unified/TSI/TSI07_0_3.png\n",
      "⚠️  Skipping TSI07_0_4.png: mask not found at biomarkem/synthetic_masks_unified/TSI/TSI07_0_4.png\n",
      "⚠️  Skipping TSI08_0_0.png: mask not found at biomarkem/synthetic_masks_unified/TSI/TSI08_0_0.png\n",
      "⚠️  Skipping TSI08_0_1.png: mask not found at biomarkem/synthetic_masks_unified/TSI/TSI08_0_1.png\n"
     ]
    },
    {
     "name": "stderr",
     "output_type": "stream",
     "text": [
      "TSI:  52%|█████▏    | 39/75 [07:02<07:51, 13.09s/it]"
     ]
    },
    {
     "name": "stdout",
     "output_type": "stream",
     "text": [
      "⚠️  Skipping TSI08_0_4.png: mask not found at biomarkem/synthetic_masks_unified/TSI/TSI08_0_4.png\n",
      "⚠️  Skipping TSI09_0_0.png: mask not found at biomarkem/synthetic_masks_unified/TSI/TSI09_0_0.png\n",
      "⚠️  Skipping TSI09_0_1.png: mask not found at biomarkem/synthetic_masks_unified/TSI/TSI09_0_1.png\n",
      "⚠️  Skipping TSI09_0_2.png: mask not found at biomarkem/synthetic_masks_unified/TSI/TSI09_0_2.png\n",
      "⚠️  Skipping TSI09_0_3.png: mask not found at biomarkem/synthetic_masks_unified/TSI/TSI09_0_3.png\n",
      "⚠️  Skipping TSI09_0_4.png: mask not found at biomarkem/synthetic_masks_unified/TSI/TSI09_0_4.png\n",
      "⚠️  Skipping TSI10_0_0.png: mask not found at biomarkem/synthetic_masks_unified/TSI/TSI10_0_0.png\n",
      "⚠️  Skipping TSI10_0_1.png: mask not found at biomarkem/synthetic_masks_unified/TSI/TSI10_0_1.png\n",
      "⚠️  Skipping TSI10_0_2.png: mask not found at biomarkem/synthetic_masks_unified/TSI/TSI10_0_2.png\n",
      "⚠️  Skipping TSI10_0_3.png: mask not found at biomarkem/synthetic_masks_unified/TSI/TSI10_0_3.png\n"
     ]
    },
    {
     "name": "stderr",
     "output_type": "stream",
     "text": [
      "TSI:  68%|██████▊   | 51/75 [08:20<03:48,  9.51s/it]"
     ]
    },
    {
     "name": "stdout",
     "output_type": "stream",
     "text": [
      "⚠️  Skipping TSI11_0_1.png: mask not found at biomarkem/synthetic_masks_unified/TSI/TSI11_0_1.png\n"
     ]
    },
    {
     "name": "stderr",
     "output_type": "stream",
     "text": [
      "TSI:  71%|███████   | 53/75 [08:58<04:07, 11.23s/it]"
     ]
    },
    {
     "name": "stdout",
     "output_type": "stream",
     "text": [
      "⚠️  Skipping TSI11_0_3.png: mask not found at biomarkem/synthetic_masks_unified/TSI/TSI11_0_3.png\n",
      "⚠️  Skipping TSI11_0_4.png: mask not found at biomarkem/synthetic_masks_unified/TSI/TSI11_0_4.png\n",
      "⚠️  Skipping TSI12_0_0.png: mask not found at biomarkem/synthetic_masks_unified/TSI/TSI12_0_0.png\n",
      "⚠️  Skipping TSI12_0_1.png: mask not found at biomarkem/synthetic_masks_unified/TSI/TSI12_0_1.png\n",
      "⚠️  Skipping TSI12_0_2.png: mask not found at biomarkem/synthetic_masks_unified/TSI/TSI12_0_2.png\n",
      "⚠️  Skipping TSI12_0_3.png: mask not found at biomarkem/synthetic_masks_unified/TSI/TSI12_0_3.png\n",
      "⚠️  Skipping TSI12_0_4.png: mask not found at biomarkem/synthetic_masks_unified/TSI/TSI12_0_4.png\n",
      "⚠️  Skipping TSI13_0_0.png: mask not found at biomarkem/synthetic_masks_unified/TSI/TSI13_0_0.png\n",
      "⚠️  Skipping TSI13_0_1.png: mask not found at biomarkem/synthetic_masks_unified/TSI/TSI13_0_1.png\n",
      "⚠️  Skipping TSI13_0_2.png: mask not found at biomarkem/synthetic_masks_unified/TSI/TSI13_0_2.png\n",
      "⚠️  Skipping TSI13_0_3.png: mask not found at biomarkem/synthetic_masks_unified/TSI/TSI13_0_3.png\n",
      "⚠️  Skipping TSI13_0_4.png: mask not found at biomarkem/synthetic_masks_unified/TSI/TSI13_0_4.png\n",
      "⚠️  Skipping TSI14_0_0.png: mask not found at biomarkem/synthetic_masks_unified/TSI/TSI14_0_0.png\n"
     ]
    },
    {
     "name": "stderr",
     "output_type": "stream",
     "text": [
      "TSI: 100%|██████████| 75/75 [10:15<00:00,  8.21s/it]\n"
     ]
    },
    {
     "name": "stdout",
     "output_type": "stream",
     "text": [
      "⚠️  Skipping TSI14_0_3.png: mask not found at biomarkem/synthetic_masks_unified/TSI/TSI14_0_3.png\n",
      "⚠️  Skipping TSI14_0_4.png: mask not found at biomarkem/synthetic_masks_unified/TSI/TSI14_0_4.png\n",
      "⚠️  Skipping TSI15_0_0.png: mask not found at biomarkem/synthetic_masks_unified/TSI/TSI15_0_0.png\n",
      "⚠️  Skipping TSI15_0_1.png: mask not found at biomarkem/synthetic_masks_unified/TSI/TSI15_0_1.png\n",
      "⚠️  Skipping TSI15_0_2.png: mask not found at biomarkem/synthetic_masks_unified/TSI/TSI15_0_2.png\n",
      "⚠️  Skipping TSI15_0_3.png: mask not found at biomarkem/synthetic_masks_unified/TSI/TSI15_0_3.png\n",
      "⚠️  Skipping TSI15_0_4.png: mask not found at biomarkem/synthetic_masks_unified/TSI/TSI15_0_4.png\n",
      "🧠 Processing scanner: ISI\n"
     ]
    },
    {
     "name": "stderr",
     "output_type": "stream",
     "text": [
      "ISI:   0%|          | 0/75 [00:00<?, ?it/s]"
     ]
    },
    {
     "name": "stdout",
     "output_type": "stream",
     "text": [
      "⚠️  Skipping ISI01_0_0.png: mask not found at biomarkem/synthetic_masks_unified/ISI/ISI01_0_0.png\n"
     ]
    },
    {
     "name": "stderr",
     "output_type": "stream",
     "text": [
      "ISI:   3%|▎         | 2/75 [00:38<23:19, 19.17s/it]"
     ]
    },
    {
     "name": "stdout",
     "output_type": "stream",
     "text": [
      "⚠️  Skipping ISI01_0_2.png: mask not found at biomarkem/synthetic_masks_unified/ISI/ISI01_0_2.png\n",
      "⚠️  Skipping ISI01_0_3.png: mask not found at biomarkem/synthetic_masks_unified/ISI/ISI01_0_3.png\n",
      "⚠️  Skipping ISI01_0_4.png: mask not found at biomarkem/synthetic_masks_unified/ISI/ISI01_0_4.png\n",
      "⚠️  Skipping ISI02_0_0.png: mask not found at biomarkem/synthetic_masks_unified/ISI/ISI02_0_0.png\n",
      "⚠️  Skipping ISI02_0_1.png: mask not found at biomarkem/synthetic_masks_unified/ISI/ISI02_0_1.png\n"
     ]
    },
    {
     "name": "stderr",
     "output_type": "stream",
     "text": [
      "ISI:  11%|█         | 8/75 [01:16<09:52,  8.84s/it]"
     ]
    },
    {
     "name": "stdout",
     "output_type": "stream",
     "text": [
      "⚠️  Skipping ISI02_0_3.png: mask not found at biomarkem/synthetic_masks_unified/ISI/ISI02_0_3.png\n",
      "⚠️  Skipping ISI02_0_4.png: mask not found at biomarkem/synthetic_masks_unified/ISI/ISI02_0_4.png\n",
      "⚠️  Skipping ISI03_0_0.png: mask not found at biomarkem/synthetic_masks_unified/ISI/ISI03_0_0.png\n",
      "⚠️  Skipping ISI03_0_1.png: mask not found at biomarkem/synthetic_masks_unified/ISI/ISI03_0_1.png\n",
      "⚠️  Skipping ISI03_0_2.png: mask not found at biomarkem/synthetic_masks_unified/ISI/ISI03_0_2.png\n",
      "⚠️  Skipping ISI03_0_3.png: mask not found at biomarkem/synthetic_masks_unified/ISI/ISI03_0_3.png\n",
      "⚠️  Skipping ISI03_0_4.png: mask not found at biomarkem/synthetic_masks_unified/ISI/ISI03_0_4.png\n",
      "⚠️  Skipping ISI04_0_0.png: mask not found at biomarkem/synthetic_masks_unified/ISI/ISI04_0_0.png\n",
      "⚠️  Skipping ISI04_0_1.png: mask not found at biomarkem/synthetic_masks_unified/ISI/ISI04_0_1.png\n",
      "⚠️  Skipping ISI04_0_2.png: mask not found at biomarkem/synthetic_masks_unified/ISI/ISI04_0_2.png\n",
      "⚠️  Skipping ISI04_0_3.png: mask not found at biomarkem/synthetic_masks_unified/ISI/ISI04_0_3.png\n"
     ]
    },
    {
     "name": "stderr",
     "output_type": "stream",
     "text": [
      "ISI:  27%|██▋       | 20/75 [01:55<04:30,  4.92s/it]"
     ]
    },
    {
     "name": "stdout",
     "output_type": "stream",
     "text": [
      "⚠️  Skipping ISI05_0_0.png: mask not found at biomarkem/synthetic_masks_unified/ISI/ISI05_0_0.png\n",
      "⚠️  Skipping ISI05_0_1.png: mask not found at biomarkem/synthetic_masks_unified/ISI/ISI05_0_1.png\n"
     ]
    },
    {
     "name": "stderr",
     "output_type": "stream",
     "text": [
      "ISI:  36%|███▌      | 27/75 [05:07<15:41, 19.62s/it]"
     ]
    },
    {
     "name": "stdout",
     "output_type": "stream",
     "text": [
      "⚠️  Skipping ISI06_0_2.png: mask not found at biomarkem/synthetic_masks_unified/ISI/ISI06_0_2.png\n",
      "⚠️  Skipping ISI06_0_3.png: mask not found at biomarkem/synthetic_masks_unified/ISI/ISI06_0_3.png\n",
      "⚠️  Skipping ISI06_0_4.png: mask not found at biomarkem/synthetic_masks_unified/ISI/ISI06_0_4.png\n",
      "⚠️  Skipping ISI07_0_0.png: mask not found at biomarkem/synthetic_masks_unified/ISI/ISI07_0_0.png\n",
      "⚠️  Skipping ISI07_0_1.png: mask not found at biomarkem/synthetic_masks_unified/ISI/ISI07_0_1.png\n"
     ]
    },
    {
     "name": "stderr",
     "output_type": "stream",
     "text": [
      "ISI:  44%|████▍     | 33/75 [05:45<08:19, 11.88s/it]"
     ]
    },
    {
     "name": "stdout",
     "output_type": "stream",
     "text": [
      "⚠️  Skipping ISI07_0_3.png: mask not found at biomarkem/synthetic_masks_unified/ISI/ISI07_0_3.png\n",
      "⚠️  Skipping ISI07_0_4.png: mask not found at biomarkem/synthetic_masks_unified/ISI/ISI07_0_4.png\n",
      "⚠️  Skipping ISI08_0_0.png: mask not found at biomarkem/synthetic_masks_unified/ISI/ISI08_0_0.png\n",
      "⚠️  Skipping ISI08_0_1.png: mask not found at biomarkem/synthetic_masks_unified/ISI/ISI08_0_1.png\n"
     ]
    },
    {
     "name": "stderr",
     "output_type": "stream",
     "text": [
      "ISI:  52%|█████▏    | 39/75 [07:03<07:56, 13.24s/it]"
     ]
    },
    {
     "name": "stdout",
     "output_type": "stream",
     "text": [
      "⚠️  Skipping ISI08_0_4.png: mask not found at biomarkem/synthetic_masks_unified/ISI/ISI08_0_4.png\n",
      "⚠️  Skipping ISI09_0_0.png: mask not found at biomarkem/synthetic_masks_unified/ISI/ISI09_0_0.png\n",
      "⚠️  Skipping ISI09_0_1.png: mask not found at biomarkem/synthetic_masks_unified/ISI/ISI09_0_1.png\n",
      "⚠️  Skipping ISI09_0_2.png: mask not found at biomarkem/synthetic_masks_unified/ISI/ISI09_0_2.png\n",
      "⚠️  Skipping ISI09_0_3.png: mask not found at biomarkem/synthetic_masks_unified/ISI/ISI09_0_3.png\n",
      "⚠️  Skipping ISI09_0_4.png: mask not found at biomarkem/synthetic_masks_unified/ISI/ISI09_0_4.png\n",
      "⚠️  Skipping ISI10_0_0.png: mask not found at biomarkem/synthetic_masks_unified/ISI/ISI10_0_0.png\n",
      "⚠️  Skipping ISI10_0_1.png: mask not found at biomarkem/synthetic_masks_unified/ISI/ISI10_0_1.png\n",
      "⚠️  Skipping ISI10_0_2.png: mask not found at biomarkem/synthetic_masks_unified/ISI/ISI10_0_2.png\n",
      "⚠️  Skipping ISI10_0_3.png: mask not found at biomarkem/synthetic_masks_unified/ISI/ISI10_0_3.png\n"
     ]
    },
    {
     "name": "stderr",
     "output_type": "stream",
     "text": [
      "ISI:  68%|██████▊   | 51/75 [08:19<03:47,  9.47s/it]"
     ]
    },
    {
     "name": "stdout",
     "output_type": "stream",
     "text": [
      "⚠️  Skipping ISI11_0_1.png: mask not found at biomarkem/synthetic_masks_unified/ISI/ISI11_0_1.png\n"
     ]
    },
    {
     "name": "stderr",
     "output_type": "stream",
     "text": [
      "ISI:  71%|███████   | 53/75 [08:58<04:05, 11.15s/it]"
     ]
    },
    {
     "name": "stdout",
     "output_type": "stream",
     "text": [
      "⚠️  Skipping ISI11_0_3.png: mask not found at biomarkem/synthetic_masks_unified/ISI/ISI11_0_3.png\n",
      "⚠️  Skipping ISI11_0_4.png: mask not found at biomarkem/synthetic_masks_unified/ISI/ISI11_0_4.png\n",
      "⚠️  Skipping ISI12_0_0.png: mask not found at biomarkem/synthetic_masks_unified/ISI/ISI12_0_0.png\n",
      "⚠️  Skipping ISI12_0_1.png: mask not found at biomarkem/synthetic_masks_unified/ISI/ISI12_0_1.png\n",
      "⚠️  Skipping ISI12_0_2.png: mask not found at biomarkem/synthetic_masks_unified/ISI/ISI12_0_2.png\n",
      "⚠️  Skipping ISI12_0_3.png: mask not found at biomarkem/synthetic_masks_unified/ISI/ISI12_0_3.png\n",
      "⚠️  Skipping ISI12_0_4.png: mask not found at biomarkem/synthetic_masks_unified/ISI/ISI12_0_4.png\n",
      "⚠️  Skipping ISI13_0_0.png: mask not found at biomarkem/synthetic_masks_unified/ISI/ISI13_0_0.png\n",
      "⚠️  Skipping ISI13_0_1.png: mask not found at biomarkem/synthetic_masks_unified/ISI/ISI13_0_1.png\n",
      "⚠️  Skipping ISI13_0_2.png: mask not found at biomarkem/synthetic_masks_unified/ISI/ISI13_0_2.png\n",
      "⚠️  Skipping ISI13_0_3.png: mask not found at biomarkem/synthetic_masks_unified/ISI/ISI13_0_3.png\n",
      "⚠️  Skipping ISI13_0_4.png: mask not found at biomarkem/synthetic_masks_unified/ISI/ISI13_0_4.png\n",
      "⚠️  Skipping ISI14_0_0.png: mask not found at biomarkem/synthetic_masks_unified/ISI/ISI14_0_0.png\n"
     ]
    },
    {
     "name": "stderr",
     "output_type": "stream",
     "text": [
      "ISI: 100%|██████████| 75/75 [10:13<00:00,  8.18s/it]"
     ]
    },
    {
     "name": "stdout",
     "output_type": "stream",
     "text": [
      "⚠️  Skipping ISI14_0_3.png: mask not found at biomarkem/synthetic_masks_unified/ISI/ISI14_0_3.png\n",
      "⚠️  Skipping ISI14_0_4.png: mask not found at biomarkem/synthetic_masks_unified/ISI/ISI14_0_4.png\n",
      "⚠️  Skipping ISI15_0_0.png: mask not found at biomarkem/synthetic_masks_unified/ISI/ISI15_0_0.png\n",
      "⚠️  Skipping ISI15_0_1.png: mask not found at biomarkem/synthetic_masks_unified/ISI/ISI15_0_1.png\n",
      "⚠️  Skipping ISI15_0_2.png: mask not found at biomarkem/synthetic_masks_unified/ISI/ISI15_0_2.png\n",
      "⚠️  Skipping ISI15_0_3.png: mask not found at biomarkem/synthetic_masks_unified/ISI/ISI15_0_3.png\n",
      "⚠️  Skipping ISI15_0_4.png: mask not found at biomarkem/synthetic_masks_unified/ISI/ISI15_0_4.png\n",
      "✅ All guidance inpaintings generated.\n"
     ]
    },
    {
     "name": "stderr",
     "output_type": "stream",
     "text": [
      "\n"
     ]
    }
   ],
   "source": [
    "generate_guidance_variants_by_scanner(\n",
    "    model_id=\"benetraco/ms-lesion-inpainting-vh-shifts-wmh2017_v2\",\n",
    "    flair_root=\"/home/benet/data/biomarkem2D\",\n",
    "    mask_root=\"./biomarkem/synthetic_masks_unified\",\n",
    "    output_root=\"./biomarkem/generated_inpaintings_unified_100\",\n",
    "    guidance_values=[0.0, 1.0, 2.0, 3.0, 5.0, 7.5, 10.0],\n",
    "    image_size=512,\n",
    "    seed=17844,\n",
    "    device=\"cuda\"\n",
    ")\n"
   ]
  },
  {
   "cell_type": "markdown",
   "metadata": {},
   "source": [
    "### Panel to visualize the results"
   ]
  },
  {
   "cell_type": "code",
   "execution_count": 44,
   "metadata": {},
   "outputs": [],
   "source": [
    "import os\n",
    "from pathlib import Path\n",
    "from PIL import Image, ImageDraw, ImageFont\n",
    "import matplotlib.pyplot as plt\n",
    "import matplotlib\n",
    "import numpy as np\n",
    "\n",
    "def create_guidance_panel(\n",
    "    image_name,\n",
    "    scanners=[\"ISI\", \"TSI\", \"VSI\"],\n",
    "    mask_root=\"./biomarkem/synthetic_masks_unified\",\n",
    "    flair_root=\"/home/benet/data/biomarkem2D\",\n",
    "    gen_root=\"./biomarkem/generated_inpaintings_unified_100\",\n",
    "    guidance_values=[0.0, 1.0, 2.0, 3.0, 5.0, 7.5, 10.0],\n",
    "    output_folder=\"./biomarkem/guidance_panels_unified_100\",\n",
    "    image_size=512\n",
    "):\n",
    "    output_folder = Path(output_folder)\n",
    "    output_folder.mkdir(parents=True, exist_ok=True)\n",
    "\n",
    "    # Extract suffix: e.g. ISI01_0_1.png → 01_0_1.png\n",
    "    suffix = image_name[3:]\n",
    "\n",
    "    flairs, masks = [], []\n",
    "    for scanner in scanners:\n",
    "        fname = f\"{scanner}{suffix}\"\n",
    "        flair_path = Path(flair_root) / scanner / fname\n",
    "        mask_path = Path(mask_root) / scanner / fname\n",
    "\n",
    "        if not flair_path.exists() or not mask_path.exists():\n",
    "            print(f\"⚠️ Skipping {suffix}: missing FLAIR or MASK for {scanner}\")\n",
    "            return None\n",
    "\n",
    "        flairs.append(Image.open(flair_path).convert(\"RGB\").resize((image_size, image_size)))\n",
    "        masks.append(Image.open(mask_path).convert(\"RGB\").resize((image_size, image_size)))\n",
    "\n",
    "    guidance_rows = []\n",
    "    for g in guidance_values:\n",
    "        row = []\n",
    "        for scanner in scanners:\n",
    "            fname = f\"{scanner}{suffix}\"\n",
    "            gen_path = Path(gen_root) / scanner / fname.replace(\".png\", \"\") / f\"g{g}.png\"\n",
    "            if not gen_path.exists():\n",
    "                print(f\"⚠️ Skipping {suffix}: missing g={g} for {scanner}\")\n",
    "                return None\n",
    "            img = Image.open(gen_path).convert(\"RGB\").resize((image_size, image_size))\n",
    "            row.append(img)\n",
    "        guidance_rows.append(row)\n",
    "\n",
    "    rows = [flairs, masks] + guidance_rows\n",
    "\n",
    "    panel_height = len(rows) * image_size\n",
    "    panel_width = len(scanners) * image_size\n",
    "    panel = Image.new(\"RGB\", (panel_width, panel_height), \"white\")\n",
    "\n",
    "    for i, row in enumerate(rows):\n",
    "        for j, img in enumerate(row):\n",
    "            panel.paste(img, (j * image_size, i * image_size))\n",
    "\n",
    "    out_path = Path(output_folder) / suffix\n",
    "    panel.save(out_path)\n",
    "\n",
    "    return out_path\n"
   ]
  },
  {
   "cell_type": "code",
   "execution_count": 45,
   "metadata": {},
   "outputs": [
    {
     "name": "stdout",
     "output_type": "stream",
     "text": [
      "Generating panel for ISI01_0_0.png\n",
      "⚠️ Skipping 01_0_0.png: missing FLAIR or MASK for ISI\n",
      "⚠️ Skipped panel for ISI01_0_0.png (missing data)\n",
      "Generating panel for ISI01_0_1.png\n",
      "Generating panel for ISI01_0_2.png\n",
      "⚠️ Skipping 01_0_2.png: missing FLAIR or MASK for ISI\n",
      "⚠️ Skipped panel for ISI01_0_2.png (missing data)\n",
      "Generating panel for ISI01_0_3.png\n",
      "⚠️ Skipping 01_0_3.png: missing FLAIR or MASK for ISI\n",
      "⚠️ Skipped panel for ISI01_0_3.png (missing data)\n",
      "Generating panel for ISI01_0_4.png\n",
      "⚠️ Skipping 01_0_4.png: missing FLAIR or MASK for ISI\n",
      "⚠️ Skipped panel for ISI01_0_4.png (missing data)\n",
      "Generating panel for ISI02_0_0.png\n",
      "⚠️ Skipping 02_0_0.png: missing FLAIR or MASK for ISI\n",
      "⚠️ Skipped panel for ISI02_0_0.png (missing data)\n",
      "Generating panel for ISI02_0_1.png\n",
      "⚠️ Skipping 02_0_1.png: missing FLAIR or MASK for ISI\n",
      "⚠️ Skipped panel for ISI02_0_1.png (missing data)\n",
      "Generating panel for ISI02_0_2.png\n",
      "Generating panel for ISI02_0_3.png\n",
      "⚠️ Skipping 02_0_3.png: missing FLAIR or MASK for ISI\n",
      "⚠️ Skipped panel for ISI02_0_3.png (missing data)\n",
      "Generating panel for ISI02_0_4.png\n",
      "⚠️ Skipping 02_0_4.png: missing FLAIR or MASK for ISI\n",
      "⚠️ Skipped panel for ISI02_0_4.png (missing data)\n",
      "Generating panel for ISI03_0_0.png\n",
      "⚠️ Skipping 03_0_0.png: missing FLAIR or MASK for ISI\n",
      "⚠️ Skipped panel for ISI03_0_0.png (missing data)\n",
      "Generating panel for ISI03_0_1.png\n",
      "⚠️ Skipping 03_0_1.png: missing FLAIR or MASK for ISI\n",
      "⚠️ Skipped panel for ISI03_0_1.png (missing data)\n",
      "Generating panel for ISI03_0_2.png\n",
      "⚠️ Skipping 03_0_2.png: missing FLAIR or MASK for ISI\n",
      "⚠️ Skipped panel for ISI03_0_2.png (missing data)\n",
      "Generating panel for ISI03_0_3.png\n",
      "⚠️ Skipping 03_0_3.png: missing FLAIR or MASK for ISI\n",
      "⚠️ Skipped panel for ISI03_0_3.png (missing data)\n",
      "Generating panel for ISI03_0_4.png\n",
      "⚠️ Skipping 03_0_4.png: missing FLAIR or MASK for ISI\n",
      "⚠️ Skipped panel for ISI03_0_4.png (missing data)\n",
      "Generating panel for ISI04_0_0.png\n",
      "⚠️ Skipping 04_0_0.png: missing FLAIR or MASK for ISI\n",
      "⚠️ Skipped panel for ISI04_0_0.png (missing data)\n",
      "Generating panel for ISI04_0_1.png\n",
      "⚠️ Skipping 04_0_1.png: missing FLAIR or MASK for ISI\n",
      "⚠️ Skipped panel for ISI04_0_1.png (missing data)\n",
      "Generating panel for ISI04_0_2.png\n",
      "⚠️ Skipping 04_0_2.png: missing FLAIR or MASK for ISI\n",
      "⚠️ Skipped panel for ISI04_0_2.png (missing data)\n",
      "Generating panel for ISI04_0_3.png\n",
      "⚠️ Skipping 04_0_3.png: missing FLAIR or MASK for ISI\n",
      "⚠️ Skipped panel for ISI04_0_3.png (missing data)\n",
      "Generating panel for ISI04_0_4.png\n",
      "Generating panel for ISI05_0_0.png\n",
      "⚠️ Skipping 05_0_0.png: missing FLAIR or MASK for ISI\n",
      "⚠️ Skipped panel for ISI05_0_0.png (missing data)\n",
      "Generating panel for ISI05_0_1.png\n",
      "⚠️ Skipping 05_0_1.png: missing FLAIR or MASK for ISI\n",
      "⚠️ Skipped panel for ISI05_0_1.png (missing data)\n",
      "Generating panel for ISI05_0_2.png\n",
      "Generating panel for ISI05_0_3.png\n",
      "Generating panel for ISI05_0_4.png\n",
      "Generating panel for ISI06_0_0.png\n",
      "Generating panel for ISI06_0_1.png\n",
      "Generating panel for ISI06_0_2.png\n",
      "⚠️ Skipping 06_0_2.png: missing FLAIR or MASK for ISI\n",
      "⚠️ Skipped panel for ISI06_0_2.png (missing data)\n",
      "Generating panel for ISI06_0_3.png\n",
      "⚠️ Skipping 06_0_3.png: missing FLAIR or MASK for ISI\n",
      "⚠️ Skipped panel for ISI06_0_3.png (missing data)\n",
      "Generating panel for ISI06_0_4.png\n",
      "⚠️ Skipping 06_0_4.png: missing FLAIR or MASK for ISI\n",
      "⚠️ Skipped panel for ISI06_0_4.png (missing data)\n",
      "Generating panel for ISI07_0_0.png\n",
      "⚠️ Skipping 07_0_0.png: missing FLAIR or MASK for ISI\n",
      "⚠️ Skipped panel for ISI07_0_0.png (missing data)\n",
      "Generating panel for ISI07_0_1.png\n",
      "⚠️ Skipping 07_0_1.png: missing FLAIR or MASK for ISI\n",
      "⚠️ Skipped panel for ISI07_0_1.png (missing data)\n",
      "Generating panel for ISI07_0_2.png\n",
      "Generating panel for ISI07_0_3.png\n",
      "⚠️ Skipping 07_0_3.png: missing FLAIR or MASK for ISI\n",
      "⚠️ Skipped panel for ISI07_0_3.png (missing data)\n",
      "Generating panel for ISI07_0_4.png\n",
      "⚠️ Skipping 07_0_4.png: missing FLAIR or MASK for ISI\n",
      "⚠️ Skipped panel for ISI07_0_4.png (missing data)\n",
      "Generating panel for ISI08_0_0.png\n",
      "⚠️ Skipping 08_0_0.png: missing FLAIR or MASK for ISI\n",
      "⚠️ Skipped panel for ISI08_0_0.png (missing data)\n",
      "Generating panel for ISI08_0_1.png\n",
      "⚠️ Skipping 08_0_1.png: missing FLAIR or MASK for ISI\n",
      "⚠️ Skipped panel for ISI08_0_1.png (missing data)\n",
      "Generating panel for ISI08_0_2.png\n",
      "Generating panel for ISI08_0_3.png\n",
      "Generating panel for ISI08_0_4.png\n",
      "⚠️ Skipping 08_0_4.png: missing FLAIR or MASK for ISI\n",
      "⚠️ Skipped panel for ISI08_0_4.png (missing data)\n",
      "Generating panel for ISI09_0_0.png\n",
      "⚠️ Skipping 09_0_0.png: missing FLAIR or MASK for ISI\n",
      "⚠️ Skipped panel for ISI09_0_0.png (missing data)\n",
      "Generating panel for ISI09_0_1.png\n",
      "⚠️ Skipping 09_0_1.png: missing FLAIR or MASK for ISI\n",
      "⚠️ Skipped panel for ISI09_0_1.png (missing data)\n",
      "Generating panel for ISI09_0_2.png\n",
      "⚠️ Skipping 09_0_2.png: missing FLAIR or MASK for ISI\n",
      "⚠️ Skipped panel for ISI09_0_2.png (missing data)\n",
      "Generating panel for ISI09_0_3.png\n",
      "⚠️ Skipping 09_0_3.png: missing FLAIR or MASK for ISI\n",
      "⚠️ Skipped panel for ISI09_0_3.png (missing data)\n",
      "Generating panel for ISI09_0_4.png\n",
      "⚠️ Skipping 09_0_4.png: missing FLAIR or MASK for ISI\n",
      "⚠️ Skipped panel for ISI09_0_4.png (missing data)\n",
      "Generating panel for ISI10_0_0.png\n",
      "⚠️ Skipping 10_0_0.png: missing FLAIR or MASK for ISI\n",
      "⚠️ Skipped panel for ISI10_0_0.png (missing data)\n",
      "Generating panel for ISI10_0_1.png\n",
      "⚠️ Skipping 10_0_1.png: missing FLAIR or MASK for ISI\n",
      "⚠️ Skipped panel for ISI10_0_1.png (missing data)\n",
      "Generating panel for ISI10_0_2.png\n",
      "⚠️ Skipping 10_0_2.png: missing FLAIR or MASK for ISI\n",
      "⚠️ Skipped panel for ISI10_0_2.png (missing data)\n",
      "Generating panel for ISI10_0_3.png\n",
      "⚠️ Skipping 10_0_3.png: missing FLAIR or MASK for ISI\n",
      "⚠️ Skipped panel for ISI10_0_3.png (missing data)\n",
      "Generating panel for ISI10_0_4.png\n",
      "Generating panel for ISI11_0_0.png\n",
      "Generating panel for ISI11_0_1.png\n",
      "⚠️ Skipping 11_0_1.png: missing FLAIR or MASK for ISI\n",
      "⚠️ Skipped panel for ISI11_0_1.png (missing data)\n",
      "Generating panel for ISI11_0_2.png\n",
      "Generating panel for ISI11_0_3.png\n",
      "⚠️ Skipping 11_0_3.png: missing FLAIR or MASK for ISI\n",
      "⚠️ Skipped panel for ISI11_0_3.png (missing data)\n",
      "Generating panel for ISI11_0_4.png\n",
      "⚠️ Skipping 11_0_4.png: missing FLAIR or MASK for ISI\n",
      "⚠️ Skipped panel for ISI11_0_4.png (missing data)\n",
      "Generating panel for ISI12_0_0.png\n",
      "⚠️ Skipping 12_0_0.png: missing FLAIR or MASK for ISI\n",
      "⚠️ Skipped panel for ISI12_0_0.png (missing data)\n",
      "Generating panel for ISI12_0_1.png\n",
      "⚠️ Skipping 12_0_1.png: missing FLAIR or MASK for ISI\n",
      "⚠️ Skipped panel for ISI12_0_1.png (missing data)\n",
      "Generating panel for ISI12_0_2.png\n",
      "⚠️ Skipping 12_0_2.png: missing FLAIR or MASK for ISI\n",
      "⚠️ Skipped panel for ISI12_0_2.png (missing data)\n",
      "Generating panel for ISI12_0_3.png\n",
      "⚠️ Skipping 12_0_3.png: missing FLAIR or MASK for ISI\n",
      "⚠️ Skipped panel for ISI12_0_3.png (missing data)\n",
      "Generating panel for ISI12_0_4.png\n",
      "⚠️ Skipping 12_0_4.png: missing FLAIR or MASK for ISI\n",
      "⚠️ Skipped panel for ISI12_0_4.png (missing data)\n",
      "Generating panel for ISI13_0_0.png\n",
      "⚠️ Skipping 13_0_0.png: missing FLAIR or MASK for ISI\n",
      "⚠️ Skipped panel for ISI13_0_0.png (missing data)\n",
      "Generating panel for ISI13_0_1.png\n",
      "⚠️ Skipping 13_0_1.png: missing FLAIR or MASK for ISI\n",
      "⚠️ Skipped panel for ISI13_0_1.png (missing data)\n",
      "Generating panel for ISI13_0_2.png\n",
      "⚠️ Skipping 13_0_2.png: missing FLAIR or MASK for ISI\n",
      "⚠️ Skipped panel for ISI13_0_2.png (missing data)\n",
      "Generating panel for ISI13_0_3.png\n",
      "⚠️ Skipping 13_0_3.png: missing FLAIR or MASK for ISI\n",
      "⚠️ Skipped panel for ISI13_0_3.png (missing data)\n",
      "Generating panel for ISI13_0_4.png\n",
      "⚠️ Skipping 13_0_4.png: missing FLAIR or MASK for ISI\n",
      "⚠️ Skipped panel for ISI13_0_4.png (missing data)\n",
      "Generating panel for ISI14_0_0.png\n",
      "⚠️ Skipping 14_0_0.png: missing FLAIR or MASK for ISI\n",
      "⚠️ Skipped panel for ISI14_0_0.png (missing data)\n",
      "Generating panel for ISI14_0_1.png\n",
      "Generating panel for ISI14_0_2.png\n",
      "Generating panel for ISI14_0_3.png\n",
      "⚠️ Skipping 14_0_3.png: missing FLAIR or MASK for ISI\n",
      "⚠️ Skipped panel for ISI14_0_3.png (missing data)\n",
      "Generating panel for ISI14_0_4.png\n",
      "⚠️ Skipping 14_0_4.png: missing FLAIR or MASK for ISI\n",
      "⚠️ Skipped panel for ISI14_0_4.png (missing data)\n",
      "Generating panel for ISI15_0_0.png\n",
      "⚠️ Skipping 15_0_0.png: missing FLAIR or MASK for ISI\n",
      "⚠️ Skipped panel for ISI15_0_0.png (missing data)\n",
      "Generating panel for ISI15_0_1.png\n",
      "⚠️ Skipping 15_0_1.png: missing FLAIR or MASK for ISI\n",
      "⚠️ Skipped panel for ISI15_0_1.png (missing data)\n",
      "Generating panel for ISI15_0_2.png\n",
      "⚠️ Skipping 15_0_2.png: missing FLAIR or MASK for ISI\n",
      "⚠️ Skipped panel for ISI15_0_2.png (missing data)\n",
      "Generating panel for ISI15_0_3.png\n",
      "⚠️ Skipping 15_0_3.png: missing FLAIR or MASK for ISI\n",
      "⚠️ Skipped panel for ISI15_0_3.png (missing data)\n",
      "Generating panel for ISI15_0_4.png\n",
      "⚠️ Skipping 15_0_4.png: missing FLAIR or MASK for ISI\n",
      "⚠️ Skipped panel for ISI15_0_4.png (missing data)\n"
     ]
    }
   ],
   "source": [
    "def batch_create_guidance_panels(image_names):\n",
    "    for name in image_names:\n",
    "        try:\n",
    "            print(f\"Generating panel for {name}\")\n",
    "            result = create_guidance_panel(name)\n",
    "            if result is None:\n",
    "                print(f\"⚠️ Skipped panel for {name} (missing data)\")\n",
    "        except Exception as e:\n",
    "            print(f\"❌ Error with {name}: {e}\")\n",
    "\n",
    "image_names = sorted(os.listdir(\"/home/benet/data/biomarkem2D/ISI\"))  # or from any scanner\n",
    "batch_create_guidance_panels(image_names)\n"
   ]
  },
  {
   "cell_type": "code",
   "execution_count": 46,
   "metadata": {},
   "outputs": [],
   "source": [
    "def create_guidance_panel(\n",
    "    image_name,\n",
    "    scanners=[\"ISI\", \"TSI\", \"VSI\"],\n",
    "    mask_root=\"./biomarkem/synthetic_masks_unified\",\n",
    "    flair_root=\"/home/benet/data/biomarkem2D\",\n",
    "    gen_root=\"./biomarkem/generated_inpaintings_unified\",\n",
    "    guidance_values=[0.0, 1.0, 2.0, 3.0, 5.0, 7.5, 10.0],\n",
    "    output_folder=\"./biomarkem/guidance_panels_unified_titles\",\n",
    "    image_size=512,\n",
    "    font_path=\"/usr/share/fonts/truetype/dejavu/DejaVuSans-Bold.ttf\"\n",
    "):\n",
    "    from PIL import ImageDraw, ImageFont\n",
    "\n",
    "    output_folder = Path(output_folder)\n",
    "    output_folder.mkdir(parents=True, exist_ok=True)\n",
    "\n",
    "    suffix = image_name[3:]\n",
    "\n",
    "    flairs, masks = [], []\n",
    "    for scanner in scanners:\n",
    "        fname = f\"{scanner}{suffix}\"\n",
    "        flair_path = Path(flair_root) / scanner / fname\n",
    "        mask_path = Path(mask_root) / scanner / fname\n",
    "        if not flair_path.exists() or not mask_path.exists():\n",
    "            print(f\"⚠️ Skipping {suffix}: missing FLAIR or MASK for {scanner}\")\n",
    "            return None\n",
    "        flairs.append(Image.open(flair_path).convert(\"RGB\").resize((image_size, image_size)))\n",
    "        masks.append(Image.open(mask_path).convert(\"RGB\").resize((image_size, image_size)))\n",
    "\n",
    "    guidance_rows = []\n",
    "    for g in guidance_values:\n",
    "        row = []\n",
    "        for scanner in scanners:\n",
    "            fname = f\"{scanner}{suffix}\"\n",
    "            gen_path = Path(gen_root) / scanner / fname.replace(\".png\", \"\") / f\"g{g}.png\"\n",
    "            if not gen_path.exists():\n",
    "                print(f\"⚠️ Skipping {suffix}: missing g={g} for {scanner}\")\n",
    "                return None\n",
    "            img = Image.open(gen_path).convert(\"RGB\").resize((image_size, image_size))\n",
    "            row.append(img)\n",
    "        guidance_rows.append(row)\n",
    "\n",
    "    row_titles = [\"FLAIR\", \"MASK\"] + [f\"g={g}\" for g in guidance_values]\n",
    "    col_titles = scanners\n",
    "\n",
    "    try:\n",
    "        font = ImageFont.truetype(font_path, 24)\n",
    "    except:\n",
    "        font = ImageFont.load_default()\n",
    "\n",
    "    # Full panel includes space for row and column titles\n",
    "    panel_width = (len(scanners) + 1) * image_size\n",
    "    panel_height = (len(row_titles) + 1) * image_size\n",
    "    panel = Image.new(\"RGB\", (panel_width, panel_height), \"white\")\n",
    "    draw = ImageDraw.Draw(panel)\n",
    "\n",
    "    # Draw column titles\n",
    "    for j, title in enumerate(col_titles):\n",
    "        draw.text(((j + 1) * image_size + 10, 10), title, fill=\"black\", font=font)\n",
    "\n",
    "    # Draw row titles and paste images\n",
    "    all_rows = [flairs, masks] + guidance_rows\n",
    "    for i, (row_title, row_images) in enumerate(zip(row_titles, all_rows)):\n",
    "        draw.text((10, (i + 1) * image_size + 10), row_title, fill=\"black\", font=font)\n",
    "        for j, img in enumerate(row_images):\n",
    "            panel.paste(img, ((j + 1) * image_size, (i + 1) * image_size))\n",
    "\n",
    "    out_path = Path(output_folder) / suffix\n",
    "    panel.save(out_path)\n",
    "    return out_path\n"
   ]
  },
  {
   "cell_type": "code",
   "execution_count": 47,
   "metadata": {},
   "outputs": [
    {
     "name": "stdout",
     "output_type": "stream",
     "text": [
      "Generating panel for ISI01_0_0.png\n",
      "⚠️ Skipping 01_0_0.png: missing FLAIR or MASK for ISI\n",
      "⚠️ Skipped panel for ISI01_0_0.png (missing data)\n",
      "Generating panel for ISI01_0_1.png\n",
      "Generating panel for ISI01_0_2.png\n",
      "⚠️ Skipping 01_0_2.png: missing FLAIR or MASK for ISI\n",
      "⚠️ Skipped panel for ISI01_0_2.png (missing data)\n",
      "Generating panel for ISI01_0_3.png\n",
      "⚠️ Skipping 01_0_3.png: missing FLAIR or MASK for ISI\n",
      "⚠️ Skipped panel for ISI01_0_3.png (missing data)\n",
      "Generating panel for ISI01_0_4.png\n",
      "⚠️ Skipping 01_0_4.png: missing FLAIR or MASK for ISI\n",
      "⚠️ Skipped panel for ISI01_0_4.png (missing data)\n",
      "Generating panel for ISI02_0_0.png\n",
      "⚠️ Skipping 02_0_0.png: missing FLAIR or MASK for ISI\n",
      "⚠️ Skipped panel for ISI02_0_0.png (missing data)\n",
      "Generating panel for ISI02_0_1.png\n",
      "⚠️ Skipping 02_0_1.png: missing FLAIR or MASK for ISI\n",
      "⚠️ Skipped panel for ISI02_0_1.png (missing data)\n",
      "Generating panel for ISI02_0_2.png\n",
      "Generating panel for ISI02_0_3.png\n",
      "⚠️ Skipping 02_0_3.png: missing FLAIR or MASK for ISI\n",
      "⚠️ Skipped panel for ISI02_0_3.png (missing data)\n",
      "Generating panel for ISI02_0_4.png\n",
      "⚠️ Skipping 02_0_4.png: missing FLAIR or MASK for ISI\n",
      "⚠️ Skipped panel for ISI02_0_4.png (missing data)\n",
      "Generating panel for ISI03_0_0.png\n",
      "⚠️ Skipping 03_0_0.png: missing FLAIR or MASK for ISI\n",
      "⚠️ Skipped panel for ISI03_0_0.png (missing data)\n",
      "Generating panel for ISI03_0_1.png\n",
      "⚠️ Skipping 03_0_1.png: missing FLAIR or MASK for ISI\n",
      "⚠️ Skipped panel for ISI03_0_1.png (missing data)\n",
      "Generating panel for ISI03_0_2.png\n",
      "⚠️ Skipping 03_0_2.png: missing FLAIR or MASK for ISI\n",
      "⚠️ Skipped panel for ISI03_0_2.png (missing data)\n",
      "Generating panel for ISI03_0_3.png\n",
      "⚠️ Skipping 03_0_3.png: missing FLAIR or MASK for ISI\n",
      "⚠️ Skipped panel for ISI03_0_3.png (missing data)\n",
      "Generating panel for ISI03_0_4.png\n",
      "⚠️ Skipping 03_0_4.png: missing FLAIR or MASK for ISI\n",
      "⚠️ Skipped panel for ISI03_0_4.png (missing data)\n",
      "Generating panel for ISI04_0_0.png\n",
      "⚠️ Skipping 04_0_0.png: missing FLAIR or MASK for ISI\n",
      "⚠️ Skipped panel for ISI04_0_0.png (missing data)\n",
      "Generating panel for ISI04_0_1.png\n",
      "⚠️ Skipping 04_0_1.png: missing FLAIR or MASK for ISI\n",
      "⚠️ Skipped panel for ISI04_0_1.png (missing data)\n",
      "Generating panel for ISI04_0_2.png\n",
      "⚠️ Skipping 04_0_2.png: missing FLAIR or MASK for ISI\n",
      "⚠️ Skipped panel for ISI04_0_2.png (missing data)\n",
      "Generating panel for ISI04_0_3.png\n",
      "⚠️ Skipping 04_0_3.png: missing FLAIR or MASK for ISI\n",
      "⚠️ Skipped panel for ISI04_0_3.png (missing data)\n",
      "Generating panel for ISI04_0_4.png\n",
      "Generating panel for ISI05_0_0.png\n",
      "⚠️ Skipping 05_0_0.png: missing FLAIR or MASK for ISI\n",
      "⚠️ Skipped panel for ISI05_0_0.png (missing data)\n",
      "Generating panel for ISI05_0_1.png\n",
      "⚠️ Skipping 05_0_1.png: missing FLAIR or MASK for ISI\n",
      "⚠️ Skipped panel for ISI05_0_1.png (missing data)\n",
      "Generating panel for ISI05_0_2.png\n",
      "Generating panel for ISI05_0_3.png\n",
      "Generating panel for ISI05_0_4.png\n",
      "Generating panel for ISI06_0_0.png\n",
      "Generating panel for ISI06_0_1.png\n",
      "Generating panel for ISI06_0_2.png\n",
      "⚠️ Skipping 06_0_2.png: missing FLAIR or MASK for ISI\n",
      "⚠️ Skipped panel for ISI06_0_2.png (missing data)\n",
      "Generating panel for ISI06_0_3.png\n",
      "⚠️ Skipping 06_0_3.png: missing FLAIR or MASK for ISI\n",
      "⚠️ Skipped panel for ISI06_0_3.png (missing data)\n",
      "Generating panel for ISI06_0_4.png\n",
      "⚠️ Skipping 06_0_4.png: missing FLAIR or MASK for ISI\n",
      "⚠️ Skipped panel for ISI06_0_4.png (missing data)\n",
      "Generating panel for ISI07_0_0.png\n",
      "⚠️ Skipping 07_0_0.png: missing FLAIR or MASK for ISI\n",
      "⚠️ Skipped panel for ISI07_0_0.png (missing data)\n",
      "Generating panel for ISI07_0_1.png\n",
      "⚠️ Skipping 07_0_1.png: missing FLAIR or MASK for ISI\n",
      "⚠️ Skipped panel for ISI07_0_1.png (missing data)\n",
      "Generating panel for ISI07_0_2.png\n",
      "Generating panel for ISI07_0_3.png\n",
      "⚠️ Skipping 07_0_3.png: missing FLAIR or MASK for ISI\n",
      "⚠️ Skipped panel for ISI07_0_3.png (missing data)\n",
      "Generating panel for ISI07_0_4.png\n",
      "⚠️ Skipping 07_0_4.png: missing FLAIR or MASK for ISI\n",
      "⚠️ Skipped panel for ISI07_0_4.png (missing data)\n",
      "Generating panel for ISI08_0_0.png\n",
      "⚠️ Skipping 08_0_0.png: missing FLAIR or MASK for ISI\n",
      "⚠️ Skipped panel for ISI08_0_0.png (missing data)\n",
      "Generating panel for ISI08_0_1.png\n",
      "⚠️ Skipping 08_0_1.png: missing FLAIR or MASK for ISI\n",
      "⚠️ Skipped panel for ISI08_0_1.png (missing data)\n",
      "Generating panel for ISI08_0_2.png\n",
      "Generating panel for ISI08_0_3.png\n",
      "Generating panel for ISI08_0_4.png\n",
      "⚠️ Skipping 08_0_4.png: missing FLAIR or MASK for ISI\n",
      "⚠️ Skipped panel for ISI08_0_4.png (missing data)\n",
      "Generating panel for ISI09_0_0.png\n",
      "⚠️ Skipping 09_0_0.png: missing FLAIR or MASK for ISI\n",
      "⚠️ Skipped panel for ISI09_0_0.png (missing data)\n",
      "Generating panel for ISI09_0_1.png\n",
      "⚠️ Skipping 09_0_1.png: missing FLAIR or MASK for ISI\n",
      "⚠️ Skipped panel for ISI09_0_1.png (missing data)\n",
      "Generating panel for ISI09_0_2.png\n",
      "⚠️ Skipping 09_0_2.png: missing FLAIR or MASK for ISI\n",
      "⚠️ Skipped panel for ISI09_0_2.png (missing data)\n",
      "Generating panel for ISI09_0_3.png\n",
      "⚠️ Skipping 09_0_3.png: missing FLAIR or MASK for ISI\n",
      "⚠️ Skipped panel for ISI09_0_3.png (missing data)\n",
      "Generating panel for ISI09_0_4.png\n",
      "⚠️ Skipping 09_0_4.png: missing FLAIR or MASK for ISI\n",
      "⚠️ Skipped panel for ISI09_0_4.png (missing data)\n",
      "Generating panel for ISI10_0_0.png\n",
      "⚠️ Skipping 10_0_0.png: missing FLAIR or MASK for ISI\n",
      "⚠️ Skipped panel for ISI10_0_0.png (missing data)\n",
      "Generating panel for ISI10_0_1.png\n",
      "⚠️ Skipping 10_0_1.png: missing FLAIR or MASK for ISI\n",
      "⚠️ Skipped panel for ISI10_0_1.png (missing data)\n",
      "Generating panel for ISI10_0_2.png\n",
      "⚠️ Skipping 10_0_2.png: missing FLAIR or MASK for ISI\n",
      "⚠️ Skipped panel for ISI10_0_2.png (missing data)\n",
      "Generating panel for ISI10_0_3.png\n",
      "⚠️ Skipping 10_0_3.png: missing FLAIR or MASK for ISI\n",
      "⚠️ Skipped panel for ISI10_0_3.png (missing data)\n",
      "Generating panel for ISI10_0_4.png\n",
      "Generating panel for ISI11_0_0.png\n",
      "Generating panel for ISI11_0_1.png\n",
      "⚠️ Skipping 11_0_1.png: missing FLAIR or MASK for ISI\n",
      "⚠️ Skipped panel for ISI11_0_1.png (missing data)\n",
      "Generating panel for ISI11_0_2.png\n",
      "Generating panel for ISI11_0_3.png\n",
      "⚠️ Skipping 11_0_3.png: missing FLAIR or MASK for ISI\n",
      "⚠️ Skipped panel for ISI11_0_3.png (missing data)\n",
      "Generating panel for ISI11_0_4.png\n",
      "⚠️ Skipping 11_0_4.png: missing FLAIR or MASK for ISI\n",
      "⚠️ Skipped panel for ISI11_0_4.png (missing data)\n",
      "Generating panel for ISI12_0_0.png\n",
      "⚠️ Skipping 12_0_0.png: missing FLAIR or MASK for ISI\n",
      "⚠️ Skipped panel for ISI12_0_0.png (missing data)\n",
      "Generating panel for ISI12_0_1.png\n",
      "⚠️ Skipping 12_0_1.png: missing FLAIR or MASK for ISI\n",
      "⚠️ Skipped panel for ISI12_0_1.png (missing data)\n",
      "Generating panel for ISI12_0_2.png\n",
      "⚠️ Skipping 12_0_2.png: missing FLAIR or MASK for ISI\n",
      "⚠️ Skipped panel for ISI12_0_2.png (missing data)\n",
      "Generating panel for ISI12_0_3.png\n",
      "⚠️ Skipping 12_0_3.png: missing FLAIR or MASK for ISI\n",
      "⚠️ Skipped panel for ISI12_0_3.png (missing data)\n",
      "Generating panel for ISI12_0_4.png\n",
      "⚠️ Skipping 12_0_4.png: missing FLAIR or MASK for ISI\n",
      "⚠️ Skipped panel for ISI12_0_4.png (missing data)\n",
      "Generating panel for ISI13_0_0.png\n",
      "⚠️ Skipping 13_0_0.png: missing FLAIR or MASK for ISI\n",
      "⚠️ Skipped panel for ISI13_0_0.png (missing data)\n",
      "Generating panel for ISI13_0_1.png\n",
      "⚠️ Skipping 13_0_1.png: missing FLAIR or MASK for ISI\n",
      "⚠️ Skipped panel for ISI13_0_1.png (missing data)\n",
      "Generating panel for ISI13_0_2.png\n",
      "⚠️ Skipping 13_0_2.png: missing FLAIR or MASK for ISI\n",
      "⚠️ Skipped panel for ISI13_0_2.png (missing data)\n",
      "Generating panel for ISI13_0_3.png\n",
      "⚠️ Skipping 13_0_3.png: missing FLAIR or MASK for ISI\n",
      "⚠️ Skipped panel for ISI13_0_3.png (missing data)\n",
      "Generating panel for ISI13_0_4.png\n",
      "⚠️ Skipping 13_0_4.png: missing FLAIR or MASK for ISI\n",
      "⚠️ Skipped panel for ISI13_0_4.png (missing data)\n",
      "Generating panel for ISI14_0_0.png\n",
      "⚠️ Skipping 14_0_0.png: missing FLAIR or MASK for ISI\n",
      "⚠️ Skipped panel for ISI14_0_0.png (missing data)\n",
      "Generating panel for ISI14_0_1.png\n",
      "Generating panel for ISI14_0_2.png\n",
      "Generating panel for ISI14_0_3.png\n",
      "⚠️ Skipping 14_0_3.png: missing FLAIR or MASK for ISI\n",
      "⚠️ Skipped panel for ISI14_0_3.png (missing data)\n",
      "Generating panel for ISI14_0_4.png\n",
      "⚠️ Skipping 14_0_4.png: missing FLAIR or MASK for ISI\n",
      "⚠️ Skipped panel for ISI14_0_4.png (missing data)\n",
      "Generating panel for ISI15_0_0.png\n",
      "⚠️ Skipping 15_0_0.png: missing FLAIR or MASK for ISI\n",
      "⚠️ Skipped panel for ISI15_0_0.png (missing data)\n",
      "Generating panel for ISI15_0_1.png\n",
      "⚠️ Skipping 15_0_1.png: missing FLAIR or MASK for ISI\n",
      "⚠️ Skipped panel for ISI15_0_1.png (missing data)\n",
      "Generating panel for ISI15_0_2.png\n",
      "⚠️ Skipping 15_0_2.png: missing FLAIR or MASK for ISI\n",
      "⚠️ Skipped panel for ISI15_0_2.png (missing data)\n",
      "Generating panel for ISI15_0_3.png\n",
      "⚠️ Skipping 15_0_3.png: missing FLAIR or MASK for ISI\n",
      "⚠️ Skipped panel for ISI15_0_3.png (missing data)\n",
      "Generating panel for ISI15_0_4.png\n",
      "⚠️ Skipping 15_0_4.png: missing FLAIR or MASK for ISI\n",
      "⚠️ Skipped panel for ISI15_0_4.png (missing data)\n"
     ]
    }
   ],
   "source": [
    "image_names = sorted(os.listdir(\"/home/benet/data/biomarkem2D/ISI\"))\n",
    "batch_create_guidance_panels(image_names)"
   ]
  }
 ],
 "metadata": {
  "kernelspec": {
   "display_name": "benetvicorob",
   "language": "python",
   "name": "python3"
  },
  "language_info": {
   "codemirror_mode": {
    "name": "ipython",
    "version": 3
   },
   "file_extension": ".py",
   "mimetype": "text/x-python",
   "name": "python",
   "nbconvert_exporter": "python",
   "pygments_lexer": "ipython3",
   "version": "3.12.9"
  }
 },
 "nbformat": 4,
 "nbformat_minor": 2
}
